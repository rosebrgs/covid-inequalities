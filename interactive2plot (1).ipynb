{
 "cells": [
  {
   "cell_type": "code",
   "execution_count": 1,
   "id": "af1c7935",
   "metadata": {},
   "outputs": [],
   "source": [
    "import pandas as pd\n",
    "import numpy as np"
   ]
  },
  {
   "cell_type": "code",
   "execution_count": null,
   "id": "282e7aed",
   "metadata": {},
   "outputs": [],
   "source": []
  },
  {
   "cell_type": "code",
   "execution_count": 2,
   "id": "9b5ddfa2",
   "metadata": {},
   "outputs": [
    {
     "data": {
      "text/plain": [
       "'/Users/jaytreon/Desktop/covid_data'"
      ]
     },
     "execution_count": 2,
     "metadata": {},
     "output_type": "execute_result"
    }
   ],
   "source": [
    "import os\n",
    "os.getcwd()"
   ]
  },
  {
   "cell_type": "code",
   "execution_count": 3,
   "id": "78a71d62",
   "metadata": {},
   "outputs": [],
   "source": [
    "os.chdir('/Users/jaytreon/Desktop/covid_data')"
   ]
  },
  {
   "cell_type": "code",
   "execution_count": 4,
   "id": "9c336458",
   "metadata": {},
   "outputs": [],
   "source": [
    "from bokeh.io import output_notebook, show\n",
    "from bokeh.plotting import figure"
   ]
  },
  {
   "cell_type": "code",
   "execution_count": 5,
   "id": "83f1e866",
   "metadata": {
    "scrolled": true
   },
   "outputs": [
    {
     "data": {
      "text/html": [
       "\n",
       "    <div class=\"bk-root\">\n",
       "        <a href=\"https://bokeh.org\" target=\"_blank\" class=\"bk-logo bk-logo-small bk-logo-notebook\"></a>\n",
       "        <span id=\"1002\">Loading BokehJS ...</span>\n",
       "    </div>"
      ]
     },
     "metadata": {},
     "output_type": "display_data"
    },
    {
     "data": {
      "application/javascript": [
       "\n",
       "(function(root) {\n",
       "  function now() {\n",
       "    return new Date();\n",
       "  }\n",
       "\n",
       "  const force = true;\n",
       "\n",
       "  if (typeof root._bokeh_onload_callbacks === \"undefined\" || force === true) {\n",
       "    root._bokeh_onload_callbacks = [];\n",
       "    root._bokeh_is_loading = undefined;\n",
       "  }\n",
       "\n",
       "  const JS_MIME_TYPE = 'application/javascript';\n",
       "  const HTML_MIME_TYPE = 'text/html';\n",
       "  const EXEC_MIME_TYPE = 'application/vnd.bokehjs_exec.v0+json';\n",
       "  const CLASS_NAME = 'output_bokeh rendered_html';\n",
       "\n",
       "  /**\n",
       "   * Render data to the DOM node\n",
       "   */\n",
       "  function render(props, node) {\n",
       "    const script = document.createElement(\"script\");\n",
       "    node.appendChild(script);\n",
       "  }\n",
       "\n",
       "  /**\n",
       "   * Handle when an output is cleared or removed\n",
       "   */\n",
       "  function handleClearOutput(event, handle) {\n",
       "    const cell = handle.cell;\n",
       "\n",
       "    const id = cell.output_area._bokeh_element_id;\n",
       "    const server_id = cell.output_area._bokeh_server_id;\n",
       "    // Clean up Bokeh references\n",
       "    if (id != null && id in Bokeh.index) {\n",
       "      Bokeh.index[id].model.document.clear();\n",
       "      delete Bokeh.index[id];\n",
       "    }\n",
       "\n",
       "    if (server_id !== undefined) {\n",
       "      // Clean up Bokeh references\n",
       "      const cmd_clean = \"from bokeh.io.state import curstate; print(curstate().uuid_to_server['\" + server_id + \"'].get_sessions()[0].document.roots[0]._id)\";\n",
       "      cell.notebook.kernel.execute(cmd_clean, {\n",
       "        iopub: {\n",
       "          output: function(msg) {\n",
       "            const id = msg.content.text.trim();\n",
       "            if (id in Bokeh.index) {\n",
       "              Bokeh.index[id].model.document.clear();\n",
       "              delete Bokeh.index[id];\n",
       "            }\n",
       "          }\n",
       "        }\n",
       "      });\n",
       "      // Destroy server and session\n",
       "      const cmd_destroy = \"import bokeh.io.notebook as ion; ion.destroy_server('\" + server_id + \"')\";\n",
       "      cell.notebook.kernel.execute(cmd_destroy);\n",
       "    }\n",
       "  }\n",
       "\n",
       "  /**\n",
       "   * Handle when a new output is added\n",
       "   */\n",
       "  function handleAddOutput(event, handle) {\n",
       "    const output_area = handle.output_area;\n",
       "    const output = handle.output;\n",
       "\n",
       "    // limit handleAddOutput to display_data with EXEC_MIME_TYPE content only\n",
       "    if ((output.output_type != \"display_data\") || (!Object.prototype.hasOwnProperty.call(output.data, EXEC_MIME_TYPE))) {\n",
       "      return\n",
       "    }\n",
       "\n",
       "    const toinsert = output_area.element.find(\".\" + CLASS_NAME.split(' ')[0]);\n",
       "\n",
       "    if (output.metadata[EXEC_MIME_TYPE][\"id\"] !== undefined) {\n",
       "      toinsert[toinsert.length - 1].firstChild.textContent = output.data[JS_MIME_TYPE];\n",
       "      // store reference to embed id on output_area\n",
       "      output_area._bokeh_element_id = output.metadata[EXEC_MIME_TYPE][\"id\"];\n",
       "    }\n",
       "    if (output.metadata[EXEC_MIME_TYPE][\"server_id\"] !== undefined) {\n",
       "      const bk_div = document.createElement(\"div\");\n",
       "      bk_div.innerHTML = output.data[HTML_MIME_TYPE];\n",
       "      const script_attrs = bk_div.children[0].attributes;\n",
       "      for (let i = 0; i < script_attrs.length; i++) {\n",
       "        toinsert[toinsert.length - 1].firstChild.setAttribute(script_attrs[i].name, script_attrs[i].value);\n",
       "        toinsert[toinsert.length - 1].firstChild.textContent = bk_div.children[0].textContent\n",
       "      }\n",
       "      // store reference to server id on output_area\n",
       "      output_area._bokeh_server_id = output.metadata[EXEC_MIME_TYPE][\"server_id\"];\n",
       "    }\n",
       "  }\n",
       "\n",
       "  function register_renderer(events, OutputArea) {\n",
       "\n",
       "    function append_mime(data, metadata, element) {\n",
       "      // create a DOM node to render to\n",
       "      const toinsert = this.create_output_subarea(\n",
       "        metadata,\n",
       "        CLASS_NAME,\n",
       "        EXEC_MIME_TYPE\n",
       "      );\n",
       "      this.keyboard_manager.register_events(toinsert);\n",
       "      // Render to node\n",
       "      const props = {data: data, metadata: metadata[EXEC_MIME_TYPE]};\n",
       "      render(props, toinsert[toinsert.length - 1]);\n",
       "      element.append(toinsert);\n",
       "      return toinsert\n",
       "    }\n",
       "\n",
       "    /* Handle when an output is cleared or removed */\n",
       "    events.on('clear_output.CodeCell', handleClearOutput);\n",
       "    events.on('delete.Cell', handleClearOutput);\n",
       "\n",
       "    /* Handle when a new output is added */\n",
       "    events.on('output_added.OutputArea', handleAddOutput);\n",
       "\n",
       "    /**\n",
       "     * Register the mime type and append_mime function with output_area\n",
       "     */\n",
       "    OutputArea.prototype.register_mime_type(EXEC_MIME_TYPE, append_mime, {\n",
       "      /* Is output safe? */\n",
       "      safe: true,\n",
       "      /* Index of renderer in `output_area.display_order` */\n",
       "      index: 0\n",
       "    });\n",
       "  }\n",
       "\n",
       "  // register the mime type if in Jupyter Notebook environment and previously unregistered\n",
       "  if (root.Jupyter !== undefined) {\n",
       "    const events = require('base/js/events');\n",
       "    const OutputArea = require('notebook/js/outputarea').OutputArea;\n",
       "\n",
       "    if (OutputArea.prototype.mime_types().indexOf(EXEC_MIME_TYPE) == -1) {\n",
       "      register_renderer(events, OutputArea);\n",
       "    }\n",
       "  }\n",
       "\n",
       "  \n",
       "  if (typeof (root._bokeh_timeout) === \"undefined\" || force === true) {\n",
       "    root._bokeh_timeout = Date.now() + 5000;\n",
       "    root._bokeh_failed_load = false;\n",
       "  }\n",
       "\n",
       "  const NB_LOAD_WARNING = {'data': {'text/html':\n",
       "     \"<div style='background-color: #fdd'>\\n\"+\n",
       "     \"<p>\\n\"+\n",
       "     \"BokehJS does not appear to have successfully loaded. If loading BokehJS from CDN, this \\n\"+\n",
       "     \"may be due to a slow or bad network connection. Possible fixes:\\n\"+\n",
       "     \"</p>\\n\"+\n",
       "     \"<ul>\\n\"+\n",
       "     \"<li>re-rerun `output_notebook()` to attempt to load from CDN again, or</li>\\n\"+\n",
       "     \"<li>use INLINE resources instead, as so:</li>\\n\"+\n",
       "     \"</ul>\\n\"+\n",
       "     \"<code>\\n\"+\n",
       "     \"from bokeh.resources import INLINE\\n\"+\n",
       "     \"output_notebook(resources=INLINE)\\n\"+\n",
       "     \"</code>\\n\"+\n",
       "     \"</div>\"}};\n",
       "\n",
       "  function display_loaded() {\n",
       "    const el = document.getElementById(\"1002\");\n",
       "    if (el != null) {\n",
       "      el.textContent = \"BokehJS is loading...\";\n",
       "    }\n",
       "    if (root.Bokeh !== undefined) {\n",
       "      if (el != null) {\n",
       "        el.textContent = \"BokehJS \" + root.Bokeh.version + \" successfully loaded.\";\n",
       "      }\n",
       "    } else if (Date.now() < root._bokeh_timeout) {\n",
       "      setTimeout(display_loaded, 100)\n",
       "    }\n",
       "  }\n",
       "\n",
       "\n",
       "  function run_callbacks() {\n",
       "    try {\n",
       "      root._bokeh_onload_callbacks.forEach(function(callback) {\n",
       "        if (callback != null)\n",
       "          callback();\n",
       "      });\n",
       "    } finally {\n",
       "      delete root._bokeh_onload_callbacks\n",
       "    }\n",
       "    console.debug(\"Bokeh: all callbacks have finished\");\n",
       "  }\n",
       "\n",
       "  function load_libs(css_urls, js_urls, callback) {\n",
       "    if (css_urls == null) css_urls = [];\n",
       "    if (js_urls == null) js_urls = [];\n",
       "\n",
       "    root._bokeh_onload_callbacks.push(callback);\n",
       "    if (root._bokeh_is_loading > 0) {\n",
       "      console.debug(\"Bokeh: BokehJS is being loaded, scheduling callback at\", now());\n",
       "      return null;\n",
       "    }\n",
       "    if (js_urls == null || js_urls.length === 0) {\n",
       "      run_callbacks();\n",
       "      return null;\n",
       "    }\n",
       "    console.debug(\"Bokeh: BokehJS not loaded, scheduling load and callback at\", now());\n",
       "    root._bokeh_is_loading = css_urls.length + js_urls.length;\n",
       "\n",
       "    function on_load() {\n",
       "      root._bokeh_is_loading--;\n",
       "      if (root._bokeh_is_loading === 0) {\n",
       "        console.debug(\"Bokeh: all BokehJS libraries/stylesheets loaded\");\n",
       "        run_callbacks()\n",
       "      }\n",
       "    }\n",
       "\n",
       "    function on_error(url) {\n",
       "      console.error(\"failed to load \" + url);\n",
       "    }\n",
       "\n",
       "    for (let i = 0; i < css_urls.length; i++) {\n",
       "      const url = css_urls[i];\n",
       "      const element = document.createElement(\"link\");\n",
       "      element.onload = on_load;\n",
       "      element.onerror = on_error.bind(null, url);\n",
       "      element.rel = \"stylesheet\";\n",
       "      element.type = \"text/css\";\n",
       "      element.href = url;\n",
       "      console.debug(\"Bokeh: injecting link tag for BokehJS stylesheet: \", url);\n",
       "      document.body.appendChild(element);\n",
       "    }\n",
       "\n",
       "    for (let i = 0; i < js_urls.length; i++) {\n",
       "      const url = js_urls[i];\n",
       "      const element = document.createElement('script');\n",
       "      element.onload = on_load;\n",
       "      element.onerror = on_error.bind(null, url);\n",
       "      element.async = false;\n",
       "      element.src = url;\n",
       "      console.debug(\"Bokeh: injecting script tag for BokehJS library: \", url);\n",
       "      document.head.appendChild(element);\n",
       "    }\n",
       "  };\n",
       "\n",
       "  function inject_raw_css(css) {\n",
       "    const element = document.createElement(\"style\");\n",
       "    element.appendChild(document.createTextNode(css));\n",
       "    document.body.appendChild(element);\n",
       "  }\n",
       "\n",
       "  \n",
       "  const js_urls = [\"https://cdn.bokeh.org/bokeh/release/bokeh-2.4.1.min.js\", \"https://cdn.bokeh.org/bokeh/release/bokeh-gl-2.4.1.min.js\", \"https://cdn.bokeh.org/bokeh/release/bokeh-widgets-2.4.1.min.js\", \"https://cdn.bokeh.org/bokeh/release/bokeh-tables-2.4.1.min.js\", \"https://cdn.bokeh.org/bokeh/release/bokeh-mathjax-2.4.1.min.js\"];\n",
       "  const css_urls = [];\n",
       "  \n",
       "\n",
       "  const inline_js = [\n",
       "    function(Bokeh) {\n",
       "      Bokeh.set_log_level(\"info\");\n",
       "    },\n",
       "    function(Bokeh) {\n",
       "    \n",
       "    \n",
       "    }\n",
       "  ];\n",
       "\n",
       "  function run_inline_js() {\n",
       "    \n",
       "    if (root.Bokeh !== undefined || force === true) {\n",
       "      \n",
       "    for (let i = 0; i < inline_js.length; i++) {\n",
       "      inline_js[i].call(root, root.Bokeh);\n",
       "    }\n",
       "    if (force === true) {\n",
       "        display_loaded();\n",
       "      }} else if (Date.now() < root._bokeh_timeout) {\n",
       "      setTimeout(run_inline_js, 100);\n",
       "    } else if (!root._bokeh_failed_load) {\n",
       "      console.log(\"Bokeh: BokehJS failed to load within specified timeout.\");\n",
       "      root._bokeh_failed_load = true;\n",
       "    } else if (force !== true) {\n",
       "      const cell = $(document.getElementById(\"1002\")).parents('.cell').data().cell;\n",
       "      cell.output_area.append_execute_result(NB_LOAD_WARNING)\n",
       "    }\n",
       "\n",
       "  }\n",
       "\n",
       "  if (root._bokeh_is_loading === 0) {\n",
       "    console.debug(\"Bokeh: BokehJS loaded, going straight to plotting\");\n",
       "    run_inline_js();\n",
       "  } else {\n",
       "    load_libs(css_urls, js_urls, function() {\n",
       "      console.debug(\"Bokeh: BokehJS plotting callback run at\", now());\n",
       "      run_inline_js();\n",
       "    });\n",
       "  }\n",
       "}(window));"
      ],
      "application/vnd.bokehjs_load.v0+json": "\n(function(root) {\n  function now() {\n    return new Date();\n  }\n\n  const force = true;\n\n  if (typeof root._bokeh_onload_callbacks === \"undefined\" || force === true) {\n    root._bokeh_onload_callbacks = [];\n    root._bokeh_is_loading = undefined;\n  }\n\n  \n\n  \n  if (typeof (root._bokeh_timeout) === \"undefined\" || force === true) {\n    root._bokeh_timeout = Date.now() + 5000;\n    root._bokeh_failed_load = false;\n  }\n\n  const NB_LOAD_WARNING = {'data': {'text/html':\n     \"<div style='background-color: #fdd'>\\n\"+\n     \"<p>\\n\"+\n     \"BokehJS does not appear to have successfully loaded. If loading BokehJS from CDN, this \\n\"+\n     \"may be due to a slow or bad network connection. Possible fixes:\\n\"+\n     \"</p>\\n\"+\n     \"<ul>\\n\"+\n     \"<li>re-rerun `output_notebook()` to attempt to load from CDN again, or</li>\\n\"+\n     \"<li>use INLINE resources instead, as so:</li>\\n\"+\n     \"</ul>\\n\"+\n     \"<code>\\n\"+\n     \"from bokeh.resources import INLINE\\n\"+\n     \"output_notebook(resources=INLINE)\\n\"+\n     \"</code>\\n\"+\n     \"</div>\"}};\n\n  function display_loaded() {\n    const el = document.getElementById(\"1002\");\n    if (el != null) {\n      el.textContent = \"BokehJS is loading...\";\n    }\n    if (root.Bokeh !== undefined) {\n      if (el != null) {\n        el.textContent = \"BokehJS \" + root.Bokeh.version + \" successfully loaded.\";\n      }\n    } else if (Date.now() < root._bokeh_timeout) {\n      setTimeout(display_loaded, 100)\n    }\n  }\n\n\n  function run_callbacks() {\n    try {\n      root._bokeh_onload_callbacks.forEach(function(callback) {\n        if (callback != null)\n          callback();\n      });\n    } finally {\n      delete root._bokeh_onload_callbacks\n    }\n    console.debug(\"Bokeh: all callbacks have finished\");\n  }\n\n  function load_libs(css_urls, js_urls, callback) {\n    if (css_urls == null) css_urls = [];\n    if (js_urls == null) js_urls = [];\n\n    root._bokeh_onload_callbacks.push(callback);\n    if (root._bokeh_is_loading > 0) {\n      console.debug(\"Bokeh: BokehJS is being loaded, scheduling callback at\", now());\n      return null;\n    }\n    if (js_urls == null || js_urls.length === 0) {\n      run_callbacks();\n      return null;\n    }\n    console.debug(\"Bokeh: BokehJS not loaded, scheduling load and callback at\", now());\n    root._bokeh_is_loading = css_urls.length + js_urls.length;\n\n    function on_load() {\n      root._bokeh_is_loading--;\n      if (root._bokeh_is_loading === 0) {\n        console.debug(\"Bokeh: all BokehJS libraries/stylesheets loaded\");\n        run_callbacks()\n      }\n    }\n\n    function on_error(url) {\n      console.error(\"failed to load \" + url);\n    }\n\n    for (let i = 0; i < css_urls.length; i++) {\n      const url = css_urls[i];\n      const element = document.createElement(\"link\");\n      element.onload = on_load;\n      element.onerror = on_error.bind(null, url);\n      element.rel = \"stylesheet\";\n      element.type = \"text/css\";\n      element.href = url;\n      console.debug(\"Bokeh: injecting link tag for BokehJS stylesheet: \", url);\n      document.body.appendChild(element);\n    }\n\n    for (let i = 0; i < js_urls.length; i++) {\n      const url = js_urls[i];\n      const element = document.createElement('script');\n      element.onload = on_load;\n      element.onerror = on_error.bind(null, url);\n      element.async = false;\n      element.src = url;\n      console.debug(\"Bokeh: injecting script tag for BokehJS library: \", url);\n      document.head.appendChild(element);\n    }\n  };\n\n  function inject_raw_css(css) {\n    const element = document.createElement(\"style\");\n    element.appendChild(document.createTextNode(css));\n    document.body.appendChild(element);\n  }\n\n  \n  const js_urls = [\"https://cdn.bokeh.org/bokeh/release/bokeh-2.4.1.min.js\", \"https://cdn.bokeh.org/bokeh/release/bokeh-gl-2.4.1.min.js\", \"https://cdn.bokeh.org/bokeh/release/bokeh-widgets-2.4.1.min.js\", \"https://cdn.bokeh.org/bokeh/release/bokeh-tables-2.4.1.min.js\", \"https://cdn.bokeh.org/bokeh/release/bokeh-mathjax-2.4.1.min.js\"];\n  const css_urls = [];\n  \n\n  const inline_js = [\n    function(Bokeh) {\n      Bokeh.set_log_level(\"info\");\n    },\n    function(Bokeh) {\n    \n    \n    }\n  ];\n\n  function run_inline_js() {\n    \n    if (root.Bokeh !== undefined || force === true) {\n      \n    for (let i = 0; i < inline_js.length; i++) {\n      inline_js[i].call(root, root.Bokeh);\n    }\n    if (force === true) {\n        display_loaded();\n      }} else if (Date.now() < root._bokeh_timeout) {\n      setTimeout(run_inline_js, 100);\n    } else if (!root._bokeh_failed_load) {\n      console.log(\"Bokeh: BokehJS failed to load within specified timeout.\");\n      root._bokeh_failed_load = true;\n    } else if (force !== true) {\n      const cell = $(document.getElementById(\"1002\")).parents('.cell').data().cell;\n      cell.output_area.append_execute_result(NB_LOAD_WARNING)\n    }\n\n  }\n\n  if (root._bokeh_is_loading === 0) {\n    console.debug(\"Bokeh: BokehJS loaded, going straight to plotting\");\n    run_inline_js();\n  } else {\n    load_libs(css_urls, js_urls, function() {\n      console.debug(\"Bokeh: BokehJS plotting callback run at\", now());\n      run_inline_js();\n    });\n  }\n}(window));"
     },
     "metadata": {},
     "output_type": "display_data"
    }
   ],
   "source": [
    "output_notebook()"
   ]
  },
  {
   "cell_type": "code",
   "execution_count": 6,
   "id": "5afb44d5",
   "metadata": {},
   "outputs": [],
   "source": [
    "# uploading csv files data = pd.read_csv('file1.csv', on_bad_lines='skip')\n",
    "\n",
    "\n",
    "ethn_df = pd.read_csv(\"ethnicdata.csv\",on_bad_lines='skip')\n",
    "Fcases_ltla_df = pd.read_csv(\"cum_cases_ltla.csv\",on_bad_lines='skip')\n",
    "Fdeaths_ltla_df = pd.read_csv(\"cum_deaths_ltla.csv\",on_bad_lines='skip')"
   ]
  },
  {
   "cell_type": "code",
   "execution_count": 7,
   "id": "63627129",
   "metadata": {},
   "outputs": [
    {
     "data": {
      "text/html": [
       "<div>\n",
       "<style scoped>\n",
       "    .dataframe tbody tr th:only-of-type {\n",
       "        vertical-align: middle;\n",
       "    }\n",
       "\n",
       "    .dataframe tbody tr th {\n",
       "        vertical-align: top;\n",
       "    }\n",
       "\n",
       "    .dataframe thead th {\n",
       "        text-align: right;\n",
       "    }\n",
       "</style>\n",
       "<table border=\"1\" class=\"dataframe\">\n",
       "  <thead>\n",
       "    <tr style=\"text-align: right;\">\n",
       "      <th></th>\n",
       "      <th>areaCode</th>\n",
       "      <th>cumCasesBySpecimenDate</th>\n",
       "    </tr>\n",
       "  </thead>\n",
       "  <tbody>\n",
       "    <tr>\n",
       "      <th>364</th>\n",
       "      <td>E07000071</td>\n",
       "      <td>66946</td>\n",
       "    </tr>\n",
       "    <tr>\n",
       "      <th>365</th>\n",
       "      <td>E07000084</td>\n",
       "      <td>60176</td>\n",
       "    </tr>\n",
       "    <tr>\n",
       "      <th>366</th>\n",
       "      <td>E07000116</td>\n",
       "      <td>38764</td>\n",
       "    </tr>\n",
       "    <tr>\n",
       "      <th>367</th>\n",
       "      <td>E07000176</td>\n",
       "      <td>42778</td>\n",
       "    </tr>\n",
       "    <tr>\n",
       "      <th>368</th>\n",
       "      <td>E09000017</td>\n",
       "      <td>104006</td>\n",
       "    </tr>\n",
       "  </tbody>\n",
       "</table>\n",
       "</div>"
      ],
      "text/plain": [
       "      areaCode  cumCasesBySpecimenDate\n",
       "364  E07000071                   66946\n",
       "365  E07000084                   60176\n",
       "366  E07000116                   38764\n",
       "367  E07000176                   42778\n",
       "368  E09000017                  104006"
      ]
     },
     "execution_count": 7,
     "metadata": {},
     "output_type": "execute_result"
    }
   ],
   "source": [
    "#sorting to useful columns of area code and the metric being used\n",
    "ethn_percs_df = ethn_df[['areaCode','Perc_NonWhite']]\n",
    "cases_ltla_df = Fcases_ltla_df[['areaCode','cumCasesBySpecimenDate']]\n",
    "deaths_ltla_df = Fdeaths_ltla_df[['areaCode','cumDeaths28DaysByDeathDateRate']]\n",
    "\n",
    "cases_ltla_df.tail()"
   ]
  },
  {
   "cell_type": "code",
   "execution_count": 8,
   "id": "f2061dfb",
   "metadata": {},
   "outputs": [
    {
     "data": {
      "text/html": [
       "<div style=\"display: table;\"><div style=\"display: table-row;\"><div style=\"display: table-cell;\"><b title=\"bokeh.models.renderers.GlyphRenderer\">GlyphRenderer</b>(</div><div style=\"display: table-cell;\">id&nbsp;=&nbsp;'1038', <span id=\"1041\" style=\"cursor: pointer;\">&hellip;)</span></div></div><div class=\"1040\" style=\"display: none;\"><div style=\"display: table-cell;\"></div><div style=\"display: table-cell;\">coordinates&nbsp;=&nbsp;None,</div></div><div class=\"1040\" style=\"display: none;\"><div style=\"display: table-cell;\"></div><div style=\"display: table-cell;\">data_source&nbsp;=&nbsp;ColumnDataSource(id='1034', ...),</div></div><div class=\"1040\" style=\"display: none;\"><div style=\"display: table-cell;\"></div><div style=\"display: table-cell;\">glyph&nbsp;=&nbsp;Circle(id='1035', ...),</div></div><div class=\"1040\" style=\"display: none;\"><div style=\"display: table-cell;\"></div><div style=\"display: table-cell;\">group&nbsp;=&nbsp;None,</div></div><div class=\"1040\" style=\"display: none;\"><div style=\"display: table-cell;\"></div><div style=\"display: table-cell;\">hover_glyph&nbsp;=&nbsp;None,</div></div><div class=\"1040\" style=\"display: none;\"><div style=\"display: table-cell;\"></div><div style=\"display: table-cell;\">js_event_callbacks&nbsp;=&nbsp;{},</div></div><div class=\"1040\" style=\"display: none;\"><div style=\"display: table-cell;\"></div><div style=\"display: table-cell;\">js_property_callbacks&nbsp;=&nbsp;{},</div></div><div class=\"1040\" style=\"display: none;\"><div style=\"display: table-cell;\"></div><div style=\"display: table-cell;\">level&nbsp;=&nbsp;'glyph',</div></div><div class=\"1040\" style=\"display: none;\"><div style=\"display: table-cell;\"></div><div style=\"display: table-cell;\">muted&nbsp;=&nbsp;False,</div></div><div class=\"1040\" style=\"display: none;\"><div style=\"display: table-cell;\"></div><div style=\"display: table-cell;\">muted_glyph&nbsp;=&nbsp;Circle(id='1037', ...),</div></div><div class=\"1040\" style=\"display: none;\"><div style=\"display: table-cell;\"></div><div style=\"display: table-cell;\">name&nbsp;=&nbsp;None,</div></div><div class=\"1040\" style=\"display: none;\"><div style=\"display: table-cell;\"></div><div style=\"display: table-cell;\">nonselection_glyph&nbsp;=&nbsp;Circle(id='1036', ...),</div></div><div class=\"1040\" style=\"display: none;\"><div style=\"display: table-cell;\"></div><div style=\"display: table-cell;\">selection_glyph&nbsp;=&nbsp;'auto',</div></div><div class=\"1040\" style=\"display: none;\"><div style=\"display: table-cell;\"></div><div style=\"display: table-cell;\">subscribed_events&nbsp;=&nbsp;[],</div></div><div class=\"1040\" style=\"display: none;\"><div style=\"display: table-cell;\"></div><div style=\"display: table-cell;\">syncable&nbsp;=&nbsp;True,</div></div><div class=\"1040\" style=\"display: none;\"><div style=\"display: table-cell;\"></div><div style=\"display: table-cell;\">tags&nbsp;=&nbsp;[],</div></div><div class=\"1040\" style=\"display: none;\"><div style=\"display: table-cell;\"></div><div style=\"display: table-cell;\">view&nbsp;=&nbsp;CDSView(id='1039', ...),</div></div><div class=\"1040\" style=\"display: none;\"><div style=\"display: table-cell;\"></div><div style=\"display: table-cell;\">visible&nbsp;=&nbsp;True,</div></div><div class=\"1040\" style=\"display: none;\"><div style=\"display: table-cell;\"></div><div style=\"display: table-cell;\">x_range_name&nbsp;=&nbsp;'default',</div></div><div class=\"1040\" style=\"display: none;\"><div style=\"display: table-cell;\"></div><div style=\"display: table-cell;\">y_range_name&nbsp;=&nbsp;'default')</div></div></div>\n",
       "<script>\n",
       "(function() {\n",
       "  let expanded = false;\n",
       "  const ellipsis = document.getElementById(\"1041\");\n",
       "  ellipsis.addEventListener(\"click\", function() {\n",
       "    const rows = document.getElementsByClassName(\"1040\");\n",
       "    for (let i = 0; i < rows.length; i++) {\n",
       "      const el = rows[i];\n",
       "      el.style.display = expanded ? \"none\" : \"table-row\";\n",
       "    }\n",
       "    ellipsis.innerHTML = expanded ? \"&hellip;)\" : \"&lsaquo;&lsaquo;&lsaquo;\";\n",
       "    expanded = !expanded;\n",
       "  });\n",
       "})();\n",
       "</script>\n"
      ],
      "text/plain": [
       "GlyphRenderer(id='1038', ...)"
      ]
     },
     "execution_count": 8,
     "metadata": {},
     "output_type": "execute_result"
    }
   ],
   "source": [
    "p_scatter = figure(plot_width=800, plot_height=400)\n",
    "\n",
    "p_scatter.circle(ethn_percs_df['areaCode'],ethn_percs_df['Perc_NonWhite'],color='firebrick',alpha=0.8)\n"
   ]
  },
  {
   "cell_type": "code",
   "execution_count": 9,
   "id": "ac2107d4",
   "metadata": {},
   "outputs": [
    {
     "data": {
      "text/plain": [
       "<AxesSubplot:xlabel='Perc_NonWhite', ylabel='Count'>"
      ]
     },
     "execution_count": 9,
     "metadata": {},
     "output_type": "execute_result"
    },
    {
     "data": {
      "image/png": "[encoded data removed]",
      "text/plain": [
       "<Figure size 432x288 with 1 Axes>"
      ]
     },
     "metadata": {
      "needs_background": "light"
     },
     "output_type": "display_data"
    }
   ],
   "source": [
    "import seaborn as sns\n",
    "\n",
    "%matplotlib inline\n",
    "\n",
    "sns.histplot(ethn_percs_df['Perc_NonWhite'])"
   ]
  },
  {
   "cell_type": "code",
   "execution_count": 10,
   "id": "7db7f7d7",
   "metadata": {},
   "outputs": [
    {
     "data": {
      "text/plain": [
       "<AxesSubplot:xlabel='cumCasesBySpecimenDate', ylabel='Count'>"
      ]
     },
     "execution_count": 10,
     "metadata": {},
     "output_type": "execute_result"
    },
    {
     "data": {
      "image/png": "[encoded data removed]",
      "text/plain": [
       "<Figure size 432x288 with 1 Axes>"
      ]
     },
     "metadata": {
      "needs_background": "light"
     },
     "output_type": "display_data"
    }
   ],
   "source": [
    "sns.histplot(cases_ltla_df['cumCasesBySpecimenDate'])"
   ]
  },
  {
   "cell_type": "code",
   "execution_count": 11,
   "id": "9fcf36d9",
   "metadata": {},
   "outputs": [
    {
     "data": {
      "text/plain": [
       "<AxesSubplot:xlabel='cumDeaths28DaysByDeathDateRate', ylabel='Count'>"
      ]
     },
     "execution_count": 11,
     "metadata": {},
     "output_type": "execute_result"
    },
    {
     "data": {
      "image/png": "[encoded data removed]",
      "text/plain": [
       "<Figure size 432x288 with 1 Axes>"
      ]
     },
     "metadata": {
      "needs_background": "light"
     },
     "output_type": "display_data"
    }
   ],
   "source": [
    "sns.histplot(deaths_ltla_df['cumDeaths28DaysByDeathDateRate'])"
   ]
  },
  {
   "cell_type": "code",
   "execution_count": 12,
   "id": "2b80725a",
   "metadata": {},
   "outputs": [
    {
     "name": "stdout",
     "output_type": "stream",
     "text": [
      "      areaCode Perc_NonWhite  cumCasesBySpecimenDate\n",
      "0    E06000003          1.48                   48876\n",
      "1    E07000040          3.60                   43770\n",
      "2    E07000090          4.84                   40731\n",
      "3    E07000214         12.50                   32243\n",
      "4    E07000229         11.01                   36177\n",
      "..         ...           ...                     ...\n",
      "364  E07000071         13.30                   66946\n",
      "365  E07000084         16.48                   60176\n",
      "366  E07000116         11.02                   38764\n",
      "367  E07000176          6.14                   42778\n",
      "368  E09000017         54.18                  104006\n",
      "\n",
      "[369 rows x 3 columns]\n"
     ]
    }
   ],
   "source": [
    "m_cases_df = pd.merge_ordered(ethn_percs_df, cases_ltla_df, fill_method=\"ffill\", right_by=\"areaCode\")\n",
    "print(m_cases_df)"
   ]
  },
  {
   "cell_type": "code",
   "execution_count": 13,
   "id": "b41324e4",
   "metadata": {},
   "outputs": [],
   "source": [
    "m_deaths_df = pd.merge_ordered(ethn_percs_df, deaths_ltla_df, fill_method=\"ffill\", right_by=\"areaCode\")"
   ]
  },
  {
   "cell_type": "code",
   "execution_count": 14,
   "id": "f3c68e98",
   "metadata": {},
   "outputs": [
    {
     "name": "stdout",
     "output_type": "stream",
     "text": [
      "      areaCode Perc_NonWhite  cumDeaths28DaysByDeathDateRate\n",
      "0    E06000003          1.48                           318.4\n",
      "1    E07000040          3.60                           199.2\n",
      "2    E07000090          4.84                           316.6\n",
      "3    E07000214         12.50                           293.7\n",
      "4    E07000229         11.01                           234.8\n",
      "..         ...           ...                             ...\n",
      "353  E07000071         13.30                           248.5\n",
      "354  E07000084         16.48                           204.2\n",
      "355  E07000116         11.02                           216.1\n",
      "356  E07000176          6.14                           237.2\n",
      "357  E09000017         54.18                           245.0\n",
      "\n",
      "[358 rows x 3 columns]\n"
     ]
    }
   ],
   "source": [
    "print(m_deaths_df)"
   ]
  },
  {
   "cell_type": "code",
   "execution_count": 15,
   "id": "1f7ab347",
   "metadata": {},
   "outputs": [
    {
     "data": {
      "text/html": [
       "\n",
       "\n",
       "\n",
       "\n",
       "\n",
       "\n",
       "  <div class=\"bk-root\" id=\"378fee81-6761-426c-a18b-7caf69386af4\" data-root-id=\"1042\"></div>\n"
      ]
     },
     "metadata": {},
     "output_type": "display_data"
    },
    {
     "data": {
      "application/javascript": [
       "(function(root) {\n",
       "  function embed_document(root) {\n",
       "    \n",
       "  const docs_json = {\"ede41b54-8ca5-4193-b52a-09974082a021\":{\"defs\":[],\"roots\":{\"references\":[{\"attributes\":{\"below\":[{\"id\":\"1051\"}],\"center\":[{\"id\":\"1054\"},{\"id\":\"1058\"}],\"height\":300,\"left\":[{\"id\":\"1055\"}],\"renderers\":[{\"id\":\"1077\"}],\"title\":{\"id\":\"1079\"},\"toolbar\":{\"id\":\"1066\"},\"width\":800,\"x_range\":{\"id\":\"1043\"},\"x_scale\":{\"id\":\"1047\"},\"y_range\":{\"id\":\"1045\"},\"y_scale\":{\"id\":\"1049\"}},\"id\":\"1042\",\"subtype\":\"Figure\",\"type\":\"Plot\"},{\"attributes\":{},\"id\":\"1062\",\"type\":\"SaveTool\"},{\"attributes\":{},\"id\":\"1056\",\"type\":\"BasicTicker\"},{\"attributes\":{},\"id\":\"1083\",\"type\":\"AllLabels\"},{\"attributes\":{\"axis_label\":\"Cumulative Cases\",\"coordinates\":null,\"formatter\":{\"id\":\"1082\"},\"group\":null,\"major_label_policy\":{\"id\":\"1083\"},\"ticker\":{\"id\":\"1056\"}},\"id\":\"1055\",\"type\":\"LinearAxis\"},{\"attributes\":{},\"id\":\"1063\",\"type\":\"ResetTool\"},{\"attributes\":{},\"id\":\"1082\",\"type\":\"BasicTickFormatter\"},{\"attributes\":{\"axis\":{\"id\":\"1051\"},\"coordinates\":null,\"group\":null,\"ticker\":null},\"id\":\"1054\",\"type\":\"Grid\"},{\"attributes\":{\"fill_alpha\":{\"value\":0.6},\"fill_color\":{\"value\":\"firebrick\"},\"hatch_alpha\":{\"value\":0.6},\"hatch_color\":{\"value\":\"firebrick\"},\"line_alpha\":{\"value\":0.6},\"line_color\":{\"value\":\"firebrick\"},\"x\":{\"field\":\"x\"},\"y\":{\"field\":\"y\"}},\"id\":\"1074\",\"type\":\"Scatter\"},{\"attributes\":{},\"id\":\"1052\",\"type\":\"BasicTicker\"},{\"attributes\":{},\"id\":\"1049\",\"type\":\"LinearScale\"},{\"attributes\":{\"bottom_units\":\"screen\",\"coordinates\":null,\"fill_alpha\":0.5,\"fill_color\":\"lightgrey\",\"group\":null,\"left_units\":\"screen\",\"level\":\"overlay\",\"line_alpha\":1.0,\"line_color\":\"black\",\"line_dash\":[4,4],\"line_width\":2,\"right_units\":\"screen\",\"syncable\":false,\"top_units\":\"screen\"},\"id\":\"1065\",\"type\":\"BoxAnnotation\"},{\"attributes\":{},\"id\":\"1085\",\"type\":\"BasicTickFormatter\"},{\"attributes\":{\"overlay\":{\"id\":\"1065\"}},\"id\":\"1061\",\"type\":\"BoxZoomTool\"},{\"attributes\":{},\"id\":\"1064\",\"type\":\"HelpTool\"},{\"attributes\":{},\"id\":\"1087\",\"type\":\"UnionRenderers\"},{\"attributes\":{\"end\":100},\"id\":\"1043\",\"type\":\"Range1d\"},{\"attributes\":{\"end\":200000},\"id\":\"1045\",\"type\":\"Range1d\"},{\"attributes\":{\"coordinates\":null,\"data_source\":{\"id\":\"1073\"},\"glyph\":{\"id\":\"1074\"},\"group\":null,\"hover_glyph\":null,\"muted_glyph\":{\"id\":\"1076\"},\"nonselection_glyph\":{\"id\":\"1075\"},\"view\":{\"id\":\"1078\"}},\"id\":\"1077\",\"type\":\"GlyphRenderer\"},{\"attributes\":{},\"id\":\"1047\",\"type\":\"LinearScale\"},{\"attributes\":{},\"id\":\"1059\",\"type\":\"PanTool\"},{\"attributes\":{},\"id\":\"1086\",\"type\":\"AllLabels\"},{\"attributes\":{\"fill_alpha\":{\"value\":0.2},\"fill_color\":{\"value\":\"firebrick\"},\"hatch_alpha\":{\"value\":0.2},\"hatch_color\":{\"value\":\"firebrick\"},\"line_alpha\":{\"value\":0.2},\"line_color\":{\"value\":\"firebrick\"},\"x\":{\"field\":\"x\"},\"y\":{\"field\":\"y\"}},\"id\":\"1076\",\"type\":\"Scatter\"},{\"attributes\":{},\"id\":\"1088\",\"type\":\"Selection\"},{\"attributes\":{\"axis_label\":\"Percentage of Ethnic Population within LTLA\",\"coordinates\":null,\"formatter\":{\"id\":\"1085\"},\"group\":null,\"major_label_policy\":{\"id\":\"1086\"},\"ticker\":{\"id\":\"1052\"}},\"id\":\"1051\",\"type\":\"LinearAxis\"},{\"attributes\":{\"data\":{\"x\":[\"1.48\",\"3.60\",\"4.84\",\"12.50\",\"11.01\",\"22.89\",\"21.37\",\"4.15\",\"31.20\",\"50.65\",\"66.42\",\"45.17\",\"65.60\",\"NaN\",\"3.76\",\"20.59\",\"3.97\",\"8.13\",\"2.90\",\"2.27\",\"3.49\",\"7.96\",\"2.00\",\"5.21\",\"4.93\",\"56.04\",\"NaN\",\"4.10\",\"4.80\",\"34.97\",\"8.00\",\"2.91\",\"3.53\",\"11.84\",\"12.69\",\"12.12\",\"5.42\",\"5.26\",\"5.59\",\"18.03\",\"NaN\",\"NaN\",\"5.08\",\"6.15\",\"17.79\",\"18.81\",\"1.03\",\"2.40\",\"1.11\",\"3.85\",\"16.13\",\"4.59\",\"20.93\",\"4.73\",\"64.33\",\"68.77\",\"NaN\",\"7.55\",\"6.35\",\"15.38\",\"3.17\",\"4.71\",\"18.56\",\"23.11\",\"8.06\",\"5.69\",\"5.05\",\"15.65\",\"20.16\",\"52.59\",\"NaN\",\"NaN\",\"7.72\",\"16.67\",\"4.81\",\"1.41\",\"1.18\",\"13.94\",\"15.82\",\"9.93\",\"5.26\",\"2.06\",\"24.10\",\"53.23\",\"56.91\",\"NaN\",\"NaN\",\"8.82\",\"10.14\",\"9.51\",\"24.67\",\"NaN\",\"4.48\",\"6.93\",\"9.20\",\"6.92\",\"20.00\",\"4.49\",\"12.58\",\"15.96\",\"3.50\",\"7.41\",\"6.35\",\"3.96\",\"4.90\",\"18.28\",\"30.91\",\"0.00\",\"16.92\",\"8.37\",\"35.98\",\"24.14\",\"73.42\",\"NaN\",\"5.48\",\"5.91\",\"33.78\",\"69.39\",\"31.20\",\"1.89\",\"5.76\",\"2.13\",\"3.90\",\"5.77\",\"NaN\",\"5.09\",\"63.64\",\"84.05\",\"48.75\",\"5.19\",\"4.35\",\"4.96\",\"6.13\",\"3.80\",\"7.63\",\"4.92\",\"5.26\",\"5.08\",\"11.35\",\"0.00\",\"12.07\",\"16.55\",\"19.05\",\"17.86\",\"4.93\",\"4.69\",\"5.00\",\"8.56\",\"26.19\",\"1.28\",\"1.00\",\"4.26\",\"24.11\",\"8.89\",\"23.36\",\"17.25\",\"59.16\",\"63.50\",\"NaN\",\"2.52\",\"18.47\",\"1.89\",\"10.80\",\"12.63\",\"17.72\",\"7.86\",\"35.48\",\"10.34\",\"60.12\",\"NaN\",\"NaN\",\"NaN\",\"18.78\",\"3.23\",\"17.02\",\"10.86\",\"11.98\",\"2.63\",\"9.86\",\"7.78\",\"14.17\",\"NaN\",\"NaN\",\"29.31\",\"37.79\",\"84.64\",\"NaN\",\"NaN\",\"1.45\",\"4.14\",\"16.81\",\"13.41\",\"27.44\",\"0.86\",\"41.24\",\"16.42\",\"9.78\",\"22.46\",\"24.49\",\"6.25\",\"2.13\",\"2.78\",\"11.06\",\"4.63\",\"1.45\",\"7.53\",\"5.70\",\"2.33\",\"6.21\",\"15.19\",\"1.85\",\"5.74\",\"8.14\",\"10.78\",\"18.46\",\"NaN\",\"NaN\",\"21.88\",\"6.55\",\"11.65\",\"13.14\",\"5.31\",\"2.65\",\"10.07\",\"7.34\",\"6.25\",\"11.68\",\"5.37\",\"34.36\",\"63.97\",\"NaN\",\"NaN\",\"22.27\",\"17.89\",\"0.00\",\"14.06\",\"22.33\",\"10.29\",\"2.36\",\"17.91\",\"9.01\",\"8.33\",\"14.89\",\"27.69\",\"NaN\",\"5.43\",\"14.00\",\"57.71\",\"5.63\",\"6.77\",\"NaN\",\"5.43\",\"14.20\",\"15.09\",\"6.00\",\"3.57\",\"10.57\",\"31.15\",\"10.68\",\"62.27\",\"NaN\",\"7.35\",\"5.00\",\"13.33\",\"18.11\",\"1.06\",\"7.21\",\"9.20\",\"4.59\",\"9.94\",\"15.83\",\"42.36\",\"NaN\",\"NaN\",\"NaN\",\"NaN\",\"27.09\",\"25.14\",\"14.43\",\"8.64\",\"0.81\",\"22.77\",\"18.95\",\"19.16\",\"10.95\",\"51.82\",\"52.01\",\"33.66\",\"1.42\",\"11.51\",\"13.56\",\"3.42\",\"15.08\",\"4.50\",\"14.29\",\"17.99\",\"9.77\",\"14.97\",\"8.40\",\"9.42\",\"48.49\",\"37.77\",\"11.01\",\"3.23\",\"11.88\",\"2.63\",\"9.09\",\"14.67\",\"10.39\",\"3.91\",\"16.84\",\"12.12\",\"1.10\",\"5.26\",\"26.30\",\"71.89\",\"NaN\",\"5.13\",\"57.41\",\"15.02\",\"22.35\",\"12.93\",\"10.17\",\"2.06\",\"5.47\",\"10.27\",\"10.96\",\"25.71\",\"52.01\",\"NaN\",\"NaN\",\"1.45\",\"3.17\",\"22.75\",\"27.62\",\"7.09\",\"5.36\",\"9.18\",\"1.94\",\"5.83\",\"19.23\",\"26.13\",\"24.42\",\"14.29\",\"73.04\",\"NaN\",\"10.95\",\"32.72\",\"30.10\",\"14.80\",\"5.68\",\"4.62\",\"7.95\",\"0.92\",\"9.20\",\"3.23\",\"18.18\",\"3.37\",\"NaN\",\"NaN\",\"8.94\",\"10.83\",\"2.69\",\"5.88\",\"13.30\",\"16.48\",\"11.02\",\"6.14\",\"54.18\"],\"y\":[48876,43770,40731,32243,36177,96612,87200,91441,175748,129483,96965,119930,70409,45267,26366,24275,50625,41618,25016,31207,30655,34621,29517,34595,71994,74372,37172,27059,26383,59339,31837,29685,24739,52831,44651,31713,50392,21037,115893,109634,29203,33988,19391,73364,90190,75509,32395,41805,31397,26928,28572,32041,29710,61136,46279,102153,51840,39058,99996,45163,20496,28132,33293,81061,41990,39544,31826,53941,91486,76669,30734,76121,156460,54499,34901,20620,24659,58860,63024,45502,40638,31481,95340,74668,65193,25684,71438,54811,100460,91893,52986,110286,25828,31341,30302,47244,31275,26978,111197,74878,40985,54522,133681,37473,46379,33413,20523,14603,45270,95333,114123,141344,108872,40100,12900,48008,57144,52994,45841,15147,39057,29881,27786,50519,47295,101417,70364,104397,92808,39140,27028,41903,163932,24545,38699,43234,36358,40139,45919,21719,42333,55000,40250,29744,80218,101951,50667,62523,65970,27047,33411,26784,52741,47158,50577,180271,105250,92024,35805,71578,98548,110586,58580,34301,29546,46331,54441,48466,98641,72403,75103,133329,103243,20094,54091,64699,69345,38633,47927,31585,47104,70848,51720,80611,61716,109241,38726,7280,21336,109453,44189,61581,100360,37598,36041,21464,29917,46140,36702,20122,24735,51475,67506,37469,23898,30343,47954,29589,50222,26942,15709,39332,28568,34239,281612,8446,134866,172590,123866,33685,63220,42309,37195,47708,35551,37522,105937,55924,90703,85339,40609,144697,88461,32907,19495,43795,38529,40161,41390,27406,38887,38752,67614,68596,46510,37063,44283,122693,71444,44711,138020,30517,48782,41137,16785,17202,43233,40692,110203,92436,83471,37990,54153,62756,43738,29993,35143,33489,38088,54387,49926,197344,50673,63992,33680,55202,84745,60081,36453,28815,43645,37473,97987,194339,68602,127411,114827,75049,42693,101109,37961,36236,44185,40227,34248,46401,42361,54363,36728,46447,352325,112432,120176,34579,91964,12157,15341,67368,27180,51898,36135,36112,27606,118944,111912,83758,37957,26551,76759,73902,33209,41608,40341,35375,42895,52459,51607,83438,98569,5860,190951,14871,50596,63856,37558,44300,39627,35281,24725,36087,28901,41656,78268,82202,122020,245771,79208,112029,76022,96303,28025,40699,30164,37366,30356,22020,30647,68596,20796,49146,68719,51365,188149,25245,66946,60176,38764,42778,104006]},\"selected\":{\"id\":\"1088\"},\"selection_policy\":{\"id\":\"1087\"}},\"id\":\"1073\",\"type\":\"ColumnDataSource\"},{\"attributes\":{\"tools\":[{\"id\":\"1059\"},{\"id\":\"1060\"},{\"id\":\"1061\"},{\"id\":\"1062\"},{\"id\":\"1063\"},{\"id\":\"1064\"}]},\"id\":\"1066\",\"type\":\"Toolbar\"},{\"attributes\":{\"source\":{\"id\":\"1073\"}},\"id\":\"1078\",\"type\":\"CDSView\"},{\"attributes\":{},\"id\":\"1060\",\"type\":\"WheelZoomTool\"},{\"attributes\":{\"fill_alpha\":{\"value\":0.1},\"fill_color\":{\"value\":\"firebrick\"},\"hatch_alpha\":{\"value\":0.1},\"hatch_color\":{\"value\":\"firebrick\"},\"line_alpha\":{\"value\":0.1},\"line_color\":{\"value\":\"firebrick\"},\"x\":{\"field\":\"x\"},\"y\":{\"field\":\"y\"}},\"id\":\"1075\",\"type\":\"Scatter\"},{\"attributes\":{\"coordinates\":null,\"group\":null},\"id\":\"1079\",\"type\":\"Title\"},{\"attributes\":{\"axis\":{\"id\":\"1055\"},\"coordinates\":null,\"dimension\":1,\"group\":null,\"ticker\":null},\"id\":\"1058\",\"type\":\"Grid\"}],\"root_ids\":[\"1042\"]},\"title\":\"Bokeh Application\",\"version\":\"2.4.1\"}};\n",
       "  const render_items = [{\"docid\":\"ede41b54-8ca5-4193-b52a-09974082a021\",\"root_ids\":[\"1042\"],\"roots\":{\"1042\":\"378fee81-6761-426c-a18b-7caf69386af4\"}}];\n",
       "  root.Bokeh.embed.embed_items_notebook(docs_json, render_items);\n",
       "\n",
       "  }\n",
       "  if (root.Bokeh !== undefined) {\n",
       "    embed_document(root);\n",
       "  } else {\n",
       "    let attempts = 0;\n",
       "    const timer = setInterval(function(root) {\n",
       "      if (root.Bokeh !== undefined) {\n",
       "        clearInterval(timer);\n",
       "        embed_document(root);\n",
       "      } else {\n",
       "        attempts++;\n",
       "        if (attempts > 100) {\n",
       "          clearInterval(timer);\n",
       "          console.log(\"Bokeh: ERROR: Unable to run BokehJS code because BokehJS library is missing\");\n",
       "        }\n",
       "      }\n",
       "    }, 10, root)\n",
       "  }\n",
       "})(window);"
      ],
      "application/vnd.bokehjs_exec.v0+json": ""
     },
     "metadata": {
      "application/vnd.bokehjs_exec.v0+json": {
       "id": "1042"
      }
     },
     "output_type": "display_data"
    }
   ],
   "source": [
    "p_scatter2 = figure(plot_width=800, plot_height=300, y_range=(0, 200000), x_range = (0,100))\n",
    "\n",
    "p_scatter2.scatter(m_cases_df['Perc_NonWhite'],m_cases_df['cumCasesBySpecimenDate'], color='firebrick', alpha=0.6)\n",
    "\n",
    "p_scatter2.yaxis.axis_label = 'Cumulative Cases'\n",
    "p_scatter2.xaxis.axis_label = 'Percentage of Ethnic Population within LTLA'\n",
    "\n",
    "show(p_scatter2)"
   ]
  },
  {
   "cell_type": "code",
   "execution_count": 16,
   "id": "58f01650",
   "metadata": {},
   "outputs": [
    {
     "data": {
      "text/html": [
       "\n",
       "\n",
       "\n",
       "\n",
       "\n",
       "\n",
       "  <div class=\"bk-root\" id=\"3ce56f5b-63c4-4241-95cf-8ec56706eb2e\" data-root-id=\"1145\"></div>\n"
      ]
     },
     "metadata": {},
     "output_type": "display_data"
    },
    {
     "data": {
      "application/javascript": [
       "(function(root) {\n",
       "  function embed_document(root) {\n",
       "    \n",
       "  const docs_json = {\"701ade3d-9fd4-4c47-8478-cc0d3929a4e0\":{\"defs\":[],\"roots\":{\"references\":[{\"attributes\":{\"below\":[{\"id\":\"1154\"}],\"center\":[{\"id\":\"1157\"},{\"id\":\"1161\"}],\"height\":400,\"left\":[{\"id\":\"1158\"}],\"renderers\":[{\"id\":\"1180\"}],\"title\":{\"id\":\"1193\"},\"toolbar\":{\"id\":\"1169\"},\"width\":800,\"x_range\":{\"id\":\"1146\"},\"x_scale\":{\"id\":\"1150\"},\"y_range\":{\"id\":\"1148\"},\"y_scale\":{\"id\":\"1152\"}},\"id\":\"1145\",\"subtype\":\"Figure\",\"type\":\"Plot\"},{\"attributes\":{\"fill_alpha\":{\"value\":0.2},\"fill_color\":{\"value\":\"firebrick\"},\"hatch_alpha\":{\"value\":0.2},\"hatch_color\":{\"value\":\"firebrick\"},\"line_alpha\":{\"value\":0.2},\"line_color\":{\"value\":\"firebrick\"},\"x\":{\"field\":\"x\"},\"y\":{\"field\":\"y\"}},\"id\":\"1179\",\"type\":\"Scatter\"},{\"attributes\":{\"end\":100},\"id\":\"1146\",\"type\":\"Range1d\"},{\"attributes\":{},\"id\":\"1163\",\"type\":\"WheelZoomTool\"},{\"attributes\":{\"bottom_units\":\"screen\",\"coordinates\":null,\"fill_alpha\":0.5,\"fill_color\":\"lightgrey\",\"group\":null,\"left_units\":\"screen\",\"level\":\"overlay\",\"line_alpha\":1.0,\"line_color\":\"black\",\"line_dash\":[4,4],\"line_width\":2,\"right_units\":\"screen\",\"syncable\":false,\"top_units\":\"screen\"},\"id\":\"1168\",\"type\":\"BoxAnnotation\"},{\"attributes\":{},\"id\":\"1166\",\"type\":\"ResetTool\"},{\"attributes\":{},\"id\":\"1199\",\"type\":\"BasicTickFormatter\"},{\"attributes\":{},\"id\":\"1200\",\"type\":\"AllLabels\"},{\"attributes\":{},\"id\":\"1196\",\"type\":\"BasicTickFormatter\"},{\"attributes\":{\"axis\":{\"id\":\"1158\"},\"coordinates\":null,\"dimension\":1,\"group\":null,\"ticker\":null},\"id\":\"1161\",\"type\":\"Grid\"},{\"attributes\":{},\"id\":\"1159\",\"type\":\"BasicTicker\"},{\"attributes\":{},\"id\":\"1162\",\"type\":\"PanTool\"},{\"attributes\":{\"axis\":{\"id\":\"1154\"},\"coordinates\":null,\"group\":null,\"ticker\":null},\"id\":\"1157\",\"type\":\"Grid\"},{\"attributes\":{\"coordinates\":null,\"group\":null},\"id\":\"1193\",\"type\":\"Title\"},{\"attributes\":{},\"id\":\"1197\",\"type\":\"AllLabels\"},{\"attributes\":{\"source\":{\"id\":\"1176\"}},\"id\":\"1181\",\"type\":\"CDSView\"},{\"attributes\":{},\"id\":\"1152\",\"type\":\"LinearScale\"},{\"attributes\":{},\"id\":\"1150\",\"type\":\"LinearScale\"},{\"attributes\":{},\"id\":\"1155\",\"type\":\"BasicTicker\"},{\"attributes\":{\"data\":{\"x\":[\"1.48\",\"3.60\",\"4.84\",\"12.50\",\"11.01\",\"22.89\",\"21.37\",\"4.15\",\"31.20\",\"50.65\",\"66.42\",\"45.17\",\"65.60\",\"NaN\",\"20.59\",\"3.97\",\"8.13\",\"2.90\",\"2.27\",\"3.49\",\"7.96\",\"2.00\",\"5.21\",\"4.93\",\"56.04\",\"NaN\",\"34.97\",\"8.00\",\"2.91\",\"3.53\",\"11.84\",\"12.69\",\"12.12\",\"5.42\",\"5.26\",\"5.59\",\"18.03\",\"NaN\",\"NaN\",\"NaN\",\"6.15\",\"17.79\",\"18.81\",\"1.03\",\"2.40\",\"1.11\",\"3.85\",\"16.13\",\"4.59\",\"20.93\",\"4.73\",\"64.33\",\"68.77\",\"NaN\",\"NaN\",\"7.55\",\"6.35\",\"15.38\",\"3.17\",\"4.71\",\"18.56\",\"23.11\",\"8.06\",\"5.69\",\"5.05\",\"15.65\",\"20.16\",\"52.59\",\"NaN\",\"NaN\",\"7.72\",\"16.67\",\"4.81\",\"1.41\",\"1.18\",\"13.94\",\"15.82\",\"9.93\",\"5.26\",\"2.06\",\"24.10\",\"53.23\",\"56.91\",\"NaN\",\"NaN\",\"8.82\",\"10.14\",\"9.51\",\"24.67\",\"NaN\",\"4.48\",\"6.93\",\"9.20\",\"6.92\",\"20.00\",\"4.49\",\"12.58\",\"15.96\",\"7.41\",\"6.35\",\"3.96\",\"4.90\",\"18.28\",\"30.91\",\"0.00\",\"16.92\",\"8.37\",\"35.98\",\"24.14\",\"73.42\",\"NaN\",\"33.78\",\"69.39\",\"31.20\",\"1.89\",\"5.76\",\"2.13\",\"3.90\",\"5.77\",\"NaN\",\"5.09\",\"63.64\",\"84.05\",\"48.75\",\"4.96\",\"6.13\",\"3.80\",\"7.63\",\"4.92\",\"5.26\",\"5.08\",\"11.35\",\"0.00\",\"12.07\",\"16.55\",\"19.05\",\"17.86\",\"4.93\",\"4.69\",\"5.00\",\"8.56\",\"26.19\",\"1.28\",\"1.00\",\"4.26\",\"24.11\",\"8.89\",\"23.36\",\"17.25\",\"59.16\",\"63.50\",\"NaN\",\"NaN\",\"18.47\",\"1.89\",\"10.80\",\"12.63\",\"17.72\",\"7.86\",\"35.48\",\"10.34\",\"60.12\",\"NaN\",\"NaN\",\"NaN\",\"NaN\",\"17.02\",\"10.86\",\"11.98\",\"2.63\",\"9.86\",\"7.78\",\"14.17\",\"NaN\",\"NaN\",\"29.31\",\"37.79\",\"84.64\",\"NaN\",\"NaN\",\"4.14\",\"16.81\",\"13.41\",\"27.44\",\"0.86\",\"41.24\",\"16.42\",\"9.78\",\"22.46\",\"24.49\",\"6.25\",\"NaN\",\"NaN\",\"11.06\",\"4.63\",\"1.45\",\"7.53\",\"5.70\",\"2.33\",\"6.21\",\"15.19\",\"1.85\",\"5.74\",\"8.14\",\"10.78\",\"18.46\",\"NaN\",\"NaN\",\"21.88\",\"6.55\",\"11.65\",\"13.14\",\"5.31\",\"2.65\",\"10.07\",\"7.34\",\"6.25\",\"11.68\",\"5.37\",\"34.36\",\"63.97\",\"NaN\",\"NaN\",\"22.27\",\"17.89\",\"0.00\",\"14.06\",\"22.33\",\"10.29\",\"2.36\",\"17.91\",\"9.01\",\"8.33\",\"14.89\",\"27.69\",\"NaN\",\"57.71\",\"5.63\",\"6.77\",\"NaN\",\"5.43\",\"14.20\",\"15.09\",\"6.00\",\"3.57\",\"10.57\",\"31.15\",\"10.68\",\"62.27\",\"NaN\",\"5.00\",\"13.33\",\"18.11\",\"1.06\",\"7.21\",\"9.20\",\"4.59\",\"9.94\",\"15.83\",\"42.36\",\"NaN\",\"NaN\",\"NaN\",\"NaN\",\"NaN\",\"27.09\",\"25.14\",\"14.43\",\"8.64\",\"0.81\",\"22.77\",\"18.95\",\"19.16\",\"10.95\",\"51.82\",\"52.01\",\"33.66\",\"NaN\",\"NaN\",\"11.51\",\"13.56\",\"3.42\",\"15.08\",\"4.50\",\"14.29\",\"17.99\",\"9.77\",\"14.97\",\"8.40\",\"9.42\",\"48.49\",\"37.77\",\"11.01\",\"NaN\",\"3.23\",\"11.88\",\"2.63\",\"9.09\",\"14.67\",\"10.39\",\"3.91\",\"16.84\",\"12.12\",\"1.10\",\"5.26\",\"26.30\",\"71.89\",\"NaN\",\"57.41\",\"15.02\",\"22.35\",\"12.93\",\"10.17\",\"2.06\",\"5.47\",\"10.27\",\"10.96\",\"25.71\",\"52.01\",\"NaN\",\"NaN\",\"NaN\",\"3.17\",\"22.75\",\"27.62\",\"7.09\",\"5.36\",\"9.18\",\"1.94\",\"5.83\",\"19.23\",\"26.13\",\"24.42\",\"14.29\",\"73.04\",\"NaN\",\"10.95\",\"32.72\",\"30.10\",\"14.80\",\"5.68\",\"4.62\",\"7.95\",\"0.92\",\"9.20\",\"3.23\",\"18.18\",\"3.37\",\"NaN\",\"NaN\",\"10.83\",\"2.69\",\"5.88\",\"13.30\",\"16.48\",\"11.02\",\"6.14\",\"54.18\"],\"y\":{\"__ndarray__\":\"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\",\"dtype\":\"float64\",\"order\":\"little\",\"shape\":[358]}},\"selected\":{\"id\":\"1202\"},\"selection_policy\":{\"id\":\"1201\"}},\"id\":\"1176\",\"type\":\"ColumnDataSource\"},{\"attributes\":{\"coordinates\":null,\"formatter\":{\"id\":\"1196\"},\"group\":null,\"major_label_policy\":{\"id\":\"1197\"},\"ticker\":{\"id\":\"1159\"}},\"id\":\"1158\",\"type\":\"LinearAxis\"},{\"attributes\":{},\"id\":\"1167\",\"type\":\"HelpTool\"},{\"attributes\":{},\"id\":\"1201\",\"type\":\"UnionRenderers\"},{\"attributes\":{},\"id\":\"1165\",\"type\":\"SaveTool\"},{\"attributes\":{\"overlay\":{\"id\":\"1168\"}},\"id\":\"1164\",\"type\":\"BoxZoomTool\"},{\"attributes\":{\"tools\":[{\"id\":\"1162\"},{\"id\":\"1163\"},{\"id\":\"1164\"},{\"id\":\"1165\"},{\"id\":\"1166\"},{\"id\":\"1167\"}]},\"id\":\"1169\",\"type\":\"Toolbar\"},{\"attributes\":{\"coordinates\":null,\"data_source\":{\"id\":\"1176\"},\"glyph\":{\"id\":\"1177\"},\"group\":null,\"hover_glyph\":null,\"muted_glyph\":{\"id\":\"1179\"},\"nonselection_glyph\":{\"id\":\"1178\"},\"view\":{\"id\":\"1181\"}},\"id\":\"1180\",\"type\":\"GlyphRenderer\"},{\"attributes\":{\"end\":600},\"id\":\"1148\",\"type\":\"Range1d\"},{\"attributes\":{},\"id\":\"1202\",\"type\":\"Selection\"},{\"attributes\":{\"fill_alpha\":{\"value\":0.6},\"fill_color\":{\"value\":\"firebrick\"},\"hatch_alpha\":{\"value\":0.6},\"hatch_color\":{\"value\":\"firebrick\"},\"line_alpha\":{\"value\":0.6},\"line_color\":{\"value\":\"firebrick\"},\"x\":{\"field\":\"x\"},\"y\":{\"field\":\"y\"}},\"id\":\"1177\",\"type\":\"Scatter\"},{\"attributes\":{\"fill_alpha\":{\"value\":0.1},\"fill_color\":{\"value\":\"firebrick\"},\"hatch_alpha\":{\"value\":0.1},\"hatch_color\":{\"value\":\"firebrick\"},\"line_alpha\":{\"value\":0.1},\"line_color\":{\"value\":\"firebrick\"},\"x\":{\"field\":\"x\"},\"y\":{\"field\":\"y\"}},\"id\":\"1178\",\"type\":\"Scatter\"},{\"attributes\":{\"coordinates\":null,\"formatter\":{\"id\":\"1199\"},\"group\":null,\"major_label_policy\":{\"id\":\"1200\"},\"ticker\":{\"id\":\"1155\"}},\"id\":\"1154\",\"type\":\"LinearAxis\"}],\"root_ids\":[\"1145\"]},\"title\":\"Bokeh Application\",\"version\":\"2.4.1\"}};\n",
       "  const render_items = [{\"docid\":\"701ade3d-9fd4-4c47-8478-cc0d3929a4e0\",\"root_ids\":[\"1145\"],\"roots\":{\"1145\":\"3ce56f5b-63c4-4241-95cf-8ec56706eb2e\"}}];\n",
       "  root.Bokeh.embed.embed_items_notebook(docs_json, render_items);\n",
       "\n",
       "  }\n",
       "  if (root.Bokeh !== undefined) {\n",
       "    embed_document(root);\n",
       "  } else {\n",
       "    let attempts = 0;\n",
       "    const timer = setInterval(function(root) {\n",
       "      if (root.Bokeh !== undefined) {\n",
       "        clearInterval(timer);\n",
       "        embed_document(root);\n",
       "      } else {\n",
       "        attempts++;\n",
       "        if (attempts > 100) {\n",
       "          clearInterval(timer);\n",
       "          console.log(\"Bokeh: ERROR: Unable to run BokehJS code because BokehJS library is missing\");\n",
       "        }\n",
       "      }\n",
       "    }, 10, root)\n",
       "  }\n",
       "})(window);"
      ],
      "application/vnd.bokehjs_exec.v0+json": ""
     },
     "metadata": {
      "application/vnd.bokehjs_exec.v0+json": {
       "id": "1145"
      }
     },
     "output_type": "display_data"
    }
   ],
   "source": [
    "p_scatter3 = figure(plot_width=800, plot_height=400, y_range=(0, 600), x_range = (0,100))\n",
    "\n",
    "p_scatter3.scatter(m_deaths_df['Perc_NonWhite'],m_deaths_df['cumDeaths28DaysByDeathDateRate'], color='firebrick', alpha=0.6)\n",
    "\n",
    "show(p_scatter3)\n",
    "\n",
    "p_scatter3.yaxis.axis_label = 'Cumulative Deaths'\n",
    "p_scatter3.xaxis.axis_label = 'Percentage of Ethnic Population within LTLA'\n",
    "\n",
    "# age demographics - higher ethnic minority ltlas might have a younger average age - can also plot this as a reason to\n",
    "# scatter doesnt show ineeqaulity"
   ]
  },
  {
   "cell_type": "code",
   "execution_count": 17,
   "id": "b7374d9c",
   "metadata": {},
   "outputs": [],
   "source": [
    "from bokeh.io import output_notebook, show, output_file\n",
    "from bokeh.plotting import figure, ColumnDataSource\n",
    "from bokeh.tile_providers import get_provider, Vendors\n",
    "from bokeh.palettes import PRGn, RdYlGn\n",
    "from bokeh.transform import linear_cmap,factor_cmap\n",
    "from bokeh.layouts import row, column\n",
    "from bokeh.models import GeoJSONDataSource, LinearColorMapper, ColorBar, NumeralTickFormatter\n",
    "import numpy as np\n",
    "import pandas as pd\n",
    "import geopandas as gpd"
   ]
  },
  {
   "cell_type": "code",
   "execution_count": 41,
   "id": "fbc6a1f0",
   "metadata": {},
   "outputs": [
    {
     "data": {
      "text/html": [
       "<div>\n",
       "<style scoped>\n",
       "    .dataframe tbody tr th:only-of-type {\n",
       "        vertical-align: middle;\n",
       "    }\n",
       "\n",
       "    .dataframe tbody tr th {\n",
       "        vertical-align: top;\n",
       "    }\n",
       "\n",
       "    .dataframe thead th {\n",
       "        text-align: right;\n",
       "    }\n",
       "</style>\n",
       "<table border=\"1\" class=\"dataframe\">\n",
       "  <thead>\n",
       "    <tr style=\"text-align: right;\">\n",
       "      <th></th>\n",
       "      <th>OBJECTID</th>\n",
       "      <th>LAD20CD</th>\n",
       "      <th>LAD20NM</th>\n",
       "      <th>LAD20NMW</th>\n",
       "      <th>BNG_E</th>\n",
       "      <th>BNG_N</th>\n",
       "      <th>LONG</th>\n",
       "      <th>LAT</th>\n",
       "      <th>SHAPE_Leng</th>\n",
       "      <th>SHAPE_Area</th>\n",
       "      <th>geometry</th>\n",
       "    </tr>\n",
       "  </thead>\n",
       "  <tbody>\n",
       "    <tr>\n",
       "      <th>0</th>\n",
       "      <td>1</td>\n",
       "      <td>E06000001</td>\n",
       "      <td>Hartlepool</td>\n",
       "      <td>None</td>\n",
       "      <td>447160</td>\n",
       "      <td>531474</td>\n",
       "      <td>-1.27018</td>\n",
       "      <td>54.676140</td>\n",
       "      <td>51065.295913</td>\n",
       "      <td>-9.602987e+07</td>\n",
       "      <td>POLYGON ((448906.042 536703.720, 448926.003 53...</td>\n",
       "    </tr>\n",
       "    <tr>\n",
       "      <th>1</th>\n",
       "      <td>2</td>\n",
       "      <td>E06000002</td>\n",
       "      <td>Middlesbrough</td>\n",
       "      <td>None</td>\n",
       "      <td>451141</td>\n",
       "      <td>516887</td>\n",
       "      <td>-1.21099</td>\n",
       "      <td>54.544670</td>\n",
       "      <td>35500.386745</td>\n",
       "      <td>-5.523139e+07</td>\n",
       "      <td>POLYGON ((451894.389 521145.406, 453997.697 51...</td>\n",
       "    </tr>\n",
       "    <tr>\n",
       "      <th>2</th>\n",
       "      <td>3</td>\n",
       "      <td>E06000003</td>\n",
       "      <td>Redcar and Cleveland</td>\n",
       "      <td>None</td>\n",
       "      <td>464361</td>\n",
       "      <td>519597</td>\n",
       "      <td>-1.00608</td>\n",
       "      <td>54.567520</td>\n",
       "      <td>78449.389240</td>\n",
       "      <td>-2.483428e+08</td>\n",
       "      <td>POLYGON ((478227.056 518780.442, 477689.303 51...</td>\n",
       "    </tr>\n",
       "    <tr>\n",
       "      <th>3</th>\n",
       "      <td>4</td>\n",
       "      <td>E06000004</td>\n",
       "      <td>Stockton-on-Tees</td>\n",
       "      <td>None</td>\n",
       "      <td>444940</td>\n",
       "      <td>518183</td>\n",
       "      <td>-1.30664</td>\n",
       "      <td>54.556911</td>\n",
       "      <td>87566.566061</td>\n",
       "      <td>-2.052314e+08</td>\n",
       "      <td>POLYGON ((452185.294 526288.478, 451741.384 52...</td>\n",
       "    </tr>\n",
       "    <tr>\n",
       "      <th>4</th>\n",
       "      <td>5</td>\n",
       "      <td>E06000005</td>\n",
       "      <td>Darlington</td>\n",
       "      <td>None</td>\n",
       "      <td>428029</td>\n",
       "      <td>515648</td>\n",
       "      <td>-1.56835</td>\n",
       "      <td>54.535339</td>\n",
       "      <td>91926.839545</td>\n",
       "      <td>-1.988128e+08</td>\n",
       "      <td>POLYGON ((436388.002 522354.197, 437351.702 52...</td>\n",
       "    </tr>\n",
       "    <tr>\n",
       "      <th>...</th>\n",
       "      <td>...</td>\n",
       "      <td>...</td>\n",
       "      <td>...</td>\n",
       "      <td>...</td>\n",
       "      <td>...</td>\n",
       "      <td>...</td>\n",
       "      <td>...</td>\n",
       "      <td>...</td>\n",
       "      <td>...</td>\n",
       "      <td>...</td>\n",
       "      <td>...</td>\n",
       "    </tr>\n",
       "    <tr>\n",
       "      <th>374</th>\n",
       "      <td>375</td>\n",
       "      <td>W06000020</td>\n",
       "      <td>Torfaen</td>\n",
       "      <td>Torfaen</td>\n",
       "      <td>327459</td>\n",
       "      <td>200480</td>\n",
       "      <td>-3.05101</td>\n",
       "      <td>51.698360</td>\n",
       "      <td>68469.967278</td>\n",
       "      <td>-1.257167e+08</td>\n",
       "      <td>POLYGON ((333723.000 192653.903, 331617.797 19...</td>\n",
       "    </tr>\n",
       "    <tr>\n",
       "      <th>375</th>\n",
       "      <td>376</td>\n",
       "      <td>W06000021</td>\n",
       "      <td>Monmouthshire</td>\n",
       "      <td>Sir Fynwy</td>\n",
       "      <td>337812</td>\n",
       "      <td>209231</td>\n",
       "      <td>-2.90280</td>\n",
       "      <td>51.778271</td>\n",
       "      <td>181596.745222</td>\n",
       "      <td>-8.544735e+08</td>\n",
       "      <td>POLYGON ((355272.704 214366.797, 354547.699 21...</td>\n",
       "    </tr>\n",
       "    <tr>\n",
       "      <th>376</th>\n",
       "      <td>377</td>\n",
       "      <td>W06000022</td>\n",
       "      <td>Newport</td>\n",
       "      <td>Casnewydd</td>\n",
       "      <td>337897</td>\n",
       "      <td>187432</td>\n",
       "      <td>-2.89769</td>\n",
       "      <td>51.582310</td>\n",
       "      <td>81882.194238</td>\n",
       "      <td>-1.925400e+08</td>\n",
       "      <td>POLYGON ((343091.754 184213.488, 339999.991 18...</td>\n",
       "    </tr>\n",
       "    <tr>\n",
       "      <th>377</th>\n",
       "      <td>378</td>\n",
       "      <td>W06000023</td>\n",
       "      <td>Powys</td>\n",
       "      <td>Powys</td>\n",
       "      <td>302329</td>\n",
       "      <td>273255</td>\n",
       "      <td>-3.43531</td>\n",
       "      <td>52.348640</td>\n",
       "      <td>504309.884312</td>\n",
       "      <td>-5.199755e+09</td>\n",
       "      <td>POLYGON ((322891.603 333139.299, 323688.497 33...</td>\n",
       "    </tr>\n",
       "    <tr>\n",
       "      <th>378</th>\n",
       "      <td>379</td>\n",
       "      <td>W06000024</td>\n",
       "      <td>Merthyr Tydfil</td>\n",
       "      <td>Merthyr Tudful</td>\n",
       "      <td>305916</td>\n",
       "      <td>206424</td>\n",
       "      <td>-3.36425</td>\n",
       "      <td>51.748581</td>\n",
       "      <td>59195.326342</td>\n",
       "      <td>-1.134292e+08</td>\n",
       "      <td>POLYGON ((308057.304 211036.201, 308367.104 20...</td>\n",
       "    </tr>\n",
       "  </tbody>\n",
       "</table>\n",
       "<p>379 rows × 11 columns</p>\n",
       "</div>"
      ],
      "text/plain": [
       "     OBJECTID    LAD20CD               LAD20NM        LAD20NMW   BNG_E  \\\n",
       "0           1  E06000001            Hartlepool            None  447160   \n",
       "1           2  E06000002         Middlesbrough            None  451141   \n",
       "2           3  E06000003  Redcar and Cleveland            None  464361   \n",
       "3           4  E06000004      Stockton-on-Tees            None  444940   \n",
       "4           5  E06000005            Darlington            None  428029   \n",
       "..        ...        ...                   ...             ...     ...   \n",
       "374       375  W06000020               Torfaen         Torfaen  327459   \n",
       "375       376  W06000021         Monmouthshire       Sir Fynwy  337812   \n",
       "376       377  W06000022               Newport       Casnewydd  337897   \n",
       "377       378  W06000023                 Powys           Powys  302329   \n",
       "378       379  W06000024        Merthyr Tydfil  Merthyr Tudful  305916   \n",
       "\n",
       "      BNG_N     LONG        LAT     SHAPE_Leng    SHAPE_Area  \\\n",
       "0    531474 -1.27018  54.676140   51065.295913 -9.602987e+07   \n",
       "1    516887 -1.21099  54.544670   35500.386745 -5.523139e+07   \n",
       "2    519597 -1.00608  54.567520   78449.389240 -2.483428e+08   \n",
       "3    518183 -1.30664  54.556911   87566.566061 -2.052314e+08   \n",
       "4    515648 -1.56835  54.535339   91926.839545 -1.988128e+08   \n",
       "..      ...      ...        ...            ...           ...   \n",
       "374  200480 -3.05101  51.698360   68469.967278 -1.257167e+08   \n",
       "375  209231 -2.90280  51.778271  181596.745222 -8.544735e+08   \n",
       "376  187432 -2.89769  51.582310   81882.194238 -1.925400e+08   \n",
       "377  273255 -3.43531  52.348640  504309.884312 -5.199755e+09   \n",
       "378  206424 -3.36425  51.748581   59195.326342 -1.134292e+08   \n",
       "\n",
       "                                              geometry  \n",
       "0    POLYGON ((448906.042 536703.720, 448926.003 53...  \n",
       "1    POLYGON ((451894.389 521145.406, 453997.697 51...  \n",
       "2    POLYGON ((478227.056 518780.442, 477689.303 51...  \n",
       "3    POLYGON ((452185.294 526288.478, 451741.384 52...  \n",
       "4    POLYGON ((436388.002 522354.197, 437351.702 52...  \n",
       "..                                                 ...  \n",
       "374  POLYGON ((333723.000 192653.903, 331617.797 19...  \n",
       "375  POLYGON ((355272.704 214366.797, 354547.699 21...  \n",
       "376  POLYGON ((343091.754 184213.488, 339999.991 18...  \n",
       "377  POLYGON ((322891.603 333139.299, 323688.497 33...  \n",
       "378  POLYGON ((308057.304 211036.201, 308367.104 20...  \n",
       "\n",
       "[379 rows x 11 columns]"
      ]
     },
     "execution_count": 41,
     "metadata": {},
     "output_type": "execute_result"
    }
   ],
   "source": [
    "shapefile = 'LAD_DEC_2020_UK_BUC.shp'\n",
    "gdf = gpd.read_file(shapefile)\n",
    "gdf"
   ]
  },
  {
   "cell_type": "code",
   "execution_count": 42,
   "id": "056d4d5d",
   "metadata": {},
   "outputs": [
    {
     "data": {
      "text/plain": [
       "<AxesSubplot:>"
      ]
     },
     "execution_count": 42,
     "metadata": {},
     "output_type": "execute_result"
    },
    {
     "data": {
      "image/png": "[encoded data removed]",
      "text/plain": [
       "<Figure size 432x288 with 1 Axes>"
      ]
     },
     "metadata": {
      "needs_background": "light"
     },
     "output_type": "display_data"
    }
   ],
   "source": [
    "gdf.plot()"
   ]
  },
  {
   "cell_type": "code",
   "execution_count": 43,
   "id": "7848f7af",
   "metadata": {},
   "outputs": [],
   "source": [
    "geo_cases_df = pd.merge_ordered(gdf, m_cases_df, fill_method=\"ffill\", left_on='LAD20CD', right_on='areaCode')\n",
    "geo_deaths_df = pd.merge_ordered(gdf, m_deaths_df, fill_method=\"ffill\", left_on='LAD20CD', right_on='areaCode')\n"
   ]
  },
  {
   "cell_type": "code",
   "execution_count": 44,
   "id": "71e514de",
   "metadata": {},
   "outputs": [
    {
     "name": "stdout",
     "output_type": "stream",
     "text": [
      "      areaCode Perc_NonWhite  cumCasesBySpecimenDate\n",
      "0    E06000003          1.48                   48876\n",
      "1    E07000040          3.60                   43770\n",
      "2    E07000090          4.84                   40731\n",
      "3    E07000214         12.50                   32243\n",
      "4    E07000229         11.01                   36177\n",
      "..         ...           ...                     ...\n",
      "364  E07000071         13.30                   66946\n",
      "365  E07000084         16.48                   60176\n",
      "366  E07000116         11.02                   38764\n",
      "367  E07000176          6.14                   42778\n",
      "368  E09000017         54.18                  104006\n",
      "\n",
      "[369 rows x 3 columns]\n"
     ]
    }
   ],
   "source": [
    "print(m_cases_df)"
   ]
  },
  {
   "cell_type": "code",
   "execution_count": 45,
   "id": "31b48d2f",
   "metadata": {},
   "outputs": [
    {
     "name": "stdout",
     "output_type": "stream",
     "text": [
      "     OBJECTID    LAD20CD               LAD20NM        LAD20NMW   BNG_E  \\\n",
      "0           1  E06000001            Hartlepool            None  447160   \n",
      "1           2  E06000002         Middlesbrough            None  451141   \n",
      "2           3  E06000003  Redcar and Cleveland            None  464361   \n",
      "3           4  E06000004      Stockton-on-Tees            None  444940   \n",
      "4           5  E06000005            Darlington            None  428029   \n",
      "..        ...        ...                   ...             ...     ...   \n",
      "378       375  W06000020               Torfaen         Torfaen  327459   \n",
      "379       376  W06000021         Monmouthshire       Sir Fynwy  337812   \n",
      "380       377  W06000022               Newport       Casnewydd  337897   \n",
      "381       378  W06000023                 Powys           Powys  302329   \n",
      "382       379  W06000024        Merthyr Tydfil  Merthyr Tudful  305916   \n",
      "\n",
      "      BNG_N     LONG        LAT     SHAPE_Leng    SHAPE_Area  \\\n",
      "0    531474 -1.27018  54.676140   51065.295913 -9.602987e+07   \n",
      "1    516887 -1.21099  54.544670   35500.386745 -5.523139e+07   \n",
      "2    519597 -1.00608  54.567520   78449.389240 -2.483428e+08   \n",
      "3    518183 -1.30664  54.556911   87566.566061 -2.052314e+08   \n",
      "4    515648 -1.56835  54.535339   91926.839545 -1.988128e+08   \n",
      "..      ...      ...        ...            ...           ...   \n",
      "378  200480 -3.05101  51.698360   68469.967278 -1.257167e+08   \n",
      "379  209231 -2.90280  51.778271  181596.745222 -8.544735e+08   \n",
      "380  187432 -2.89769  51.582310   81882.194238 -1.925400e+08   \n",
      "381  273255 -3.43531  52.348640  504309.884312 -5.199755e+09   \n",
      "382  206424 -3.36425  51.748581   59195.326342 -1.134292e+08   \n",
      "\n",
      "                                              geometry   areaCode  \\\n",
      "0    POLYGON ((448906.042 536703.720, 448926.003 53...  E06000001   \n",
      "1    POLYGON ((451894.389 521145.406, 453997.697 51...  E06000002   \n",
      "2    POLYGON ((478227.056 518780.442, 477689.303 51...  E06000003   \n",
      "3    POLYGON ((452185.294 526288.478, 451741.384 52...  E06000004   \n",
      "4    POLYGON ((436388.002 522354.197, 437351.702 52...  E06000005   \n",
      "..                                                 ...        ...   \n",
      "378  POLYGON ((333723.000 192653.903, 331617.797 19...  S12000050   \n",
      "379  POLYGON ((355272.704 214366.797, 354547.699 21...  S12000050   \n",
      "380  POLYGON ((343091.754 184213.488, 339999.991 18...  S12000050   \n",
      "381  POLYGON ((322891.603 333139.299, 323688.497 33...  S12000050   \n",
      "382  POLYGON ((308057.304 211036.201, 308367.104 20...  S12000050   \n",
      "\n",
      "    Perc_NonWhite  cumDeaths28DaysByDeathDateRate  \n",
      "0            3.23                           360.2  \n",
      "1           17.02                           341.9  \n",
      "2            1.48                           318.4  \n",
      "3            6.15                           311.5  \n",
      "4            7.55                           333.3  \n",
      "..            ...                             ...  \n",
      "378           NaN                           303.1  \n",
      "379           NaN                           303.1  \n",
      "380           NaN                           303.1  \n",
      "381           NaN                           303.1  \n",
      "382           NaN                           303.1  \n",
      "\n",
      "[383 rows x 14 columns]\n"
     ]
    }
   ],
   "source": [
    "print(geo_deaths_df)\n",
    "import matplotlib.pyplot as plt\n",
    "\n",
    "from mpl_toolkits.axes_grid1 import make_axes_locatable\n",
    "#check where data is missing - could be missing Wales data"
   ]
  },
  {
   "cell_type": "code",
   "execution_count": 46,
   "id": "3d61ae66",
   "metadata": {},
   "outputs": [
    {
     "data": {
      "text/plain": [
       "<AxesSubplot:>"
      ]
     },
     "execution_count": 46,
     "metadata": {},
     "output_type": "execute_result"
    },
    {
     "data": {
      "image/png": "[encoded data removed]",
      "text/plain": [
       "<Figure size 432x288 with 2 Axes>"
      ]
     },
     "metadata": {
      "needs_background": "light"
     },
     "output_type": "display_data"
    }
   ],
   "source": [
    "fig, ax = plt.subplots(1, 1)\n",
    "\n",
    "divider = make_axes_locatable(ax)\n",
    "\n",
    "cax = divider.append_axes(\"right\", size=\"10%\", pad=0.5)\n",
    "\n",
    "pd.to_numeric(geo_cases_df['Perc_NonWhite'])\n",
    "\n",
    "\n",
    "geo_cases_df['Perc_NonWhite'] = pd.to_numeric(geo_cases_df['Perc_NonWhite'])\n",
    "\n",
    "geo_cases_df.plot(column='Perc_NonWhite', ax=ax, legend=True, cax=cax)"
   ]
  },
  {
   "cell_type": "code",
   "execution_count": 47,
   "id": "a23ca91c",
   "metadata": {},
   "outputs": [
    {
     "data": {
      "text/plain": [
       "<AxesSubplot:>"
      ]
     },
     "execution_count": 47,
     "metadata": {},
     "output_type": "execute_result"
    },
    {
     "data": {
      "image/png": "[encoded data removed]",
      "text/plain": [
       "<Figure size 432x288 with 2 Axes>"
      ]
     },
     "metadata": {
      "needs_background": "light"
     },
     "output_type": "display_data"
    }
   ],
   "source": [
    "fig, ax = plt.subplots(1, 1)\n",
    "\n",
    "divider = make_axes_locatable(ax)\n",
    "\n",
    "cax = divider.append_axes(\"right\", size=\"10%\", pad=0.5)\n",
    "\n",
    "geo_cases_df.head \n",
    "\n",
    "geo_cases_df.plot(column='cumCasesBySpecimenDate', ax=ax, legend=True, cax=cax,\n",
    "                          legend_kwds={'label': 'Number of cases', 'orientation':'vertical'})"
   ]
  },
  {
   "cell_type": "code",
   "execution_count": 48,
   "id": "b0f227ac",
   "metadata": {},
   "outputs": [
    {
     "data": {
      "text/plain": [
       "<AxesSubplot:>"
      ]
     },
     "execution_count": 48,
     "metadata": {},
     "output_type": "execute_result"
    },
    {
     "data": {
      "image/png": "[encoded data removed]",
      "text/plain": [
       "<Figure size 432x288 with 2 Axes>"
      ]
     },
     "metadata": {
      "needs_background": "light"
     },
     "output_type": "display_data"
    }
   ],
   "source": [
    "fig, ax = plt.subplots(1, 1)\n",
    "\n",
    "divider = make_axes_locatable(ax)\n",
    "\n",
    "cax = divider.append_axes(\"right\", size=\"10%\", pad=0.5)\n",
    "\n",
    "geo_cases_df.head \n",
    "\n",
    "geo_deaths_df.plot(column='cumDeaths28DaysByDeathDateRate', ax=ax, legend=True, cax=cax,\n",
    "                          legend_kwds={'label': 'Number of deaths', 'orientation':'vertical'})"
   ]
  },
  {
   "cell_type": "code",
   "execution_count": 49,
   "id": "8ab54dc8",
   "metadata": {
    "scrolled": true
   },
   "outputs": [
    {
     "data": {
      "text/html": [
       "<div>\n",
       "<style scoped>\n",
       "    .dataframe tbody tr th:only-of-type {\n",
       "        vertical-align: middle;\n",
       "    }\n",
       "\n",
       "    .dataframe tbody tr th {\n",
       "        vertical-align: top;\n",
       "    }\n",
       "\n",
       "    .dataframe thead th {\n",
       "        text-align: right;\n",
       "    }\n",
       "</style>\n",
       "<table border=\"1\" class=\"dataframe\">\n",
       "  <thead>\n",
       "    <tr style=\"text-align: right;\">\n",
       "      <th></th>\n",
       "      <th>lad20cd</th>\n",
       "      <th>FID</th>\n",
       "      <th>LAD20NM</th>\n",
       "      <th>RGN20CD</th>\n",
       "      <th>RGN20NM</th>\n",
       "      <th>LTLA_ID</th>\n",
       "      <th>totl_pr</th>\n",
       "      <th>exp_frc</th>\n",
       "      <th>unxp_fr</th>\n",
       "      <th>geometry</th>\n",
       "    </tr>\n",
       "  </thead>\n",
       "  <tbody>\n",
       "    <tr>\n",
       "      <th>0</th>\n",
       "      <td>E06000001</td>\n",
       "      <td>54.0</td>\n",
       "      <td>Hartlepool</td>\n",
       "      <td>E12000001</td>\n",
       "      <td>North East</td>\n",
       "      <td>1</td>\n",
       "      <td>0.330147</td>\n",
       "      <td>0.130402</td>\n",
       "      <td>0.199744</td>\n",
       "      <td>POLYGON ((447213.900 537036.104, 447228.798 53...</td>\n",
       "    </tr>\n",
       "    <tr>\n",
       "      <th>1</th>\n",
       "      <td>E06000002</td>\n",
       "      <td>55.0</td>\n",
       "      <td>Middlesbrough</td>\n",
       "      <td>E12000001</td>\n",
       "      <td>North East</td>\n",
       "      <td>2</td>\n",
       "      <td>0.375032</td>\n",
       "      <td>0.248762</td>\n",
       "      <td>0.126270</td>\n",
       "      <td>POLYGON ((448489.897 522071.798, 448592.597 52...</td>\n",
       "    </tr>\n",
       "    <tr>\n",
       "      <th>2</th>\n",
       "      <td>E06000003</td>\n",
       "      <td>56.0</td>\n",
       "      <td>Redcar and Cleveland</td>\n",
       "      <td>E12000001</td>\n",
       "      <td>North East</td>\n",
       "      <td>3</td>\n",
       "      <td>0.246772</td>\n",
       "      <td>0.024796</td>\n",
       "      <td>0.221976</td>\n",
       "      <td>POLYGON ((455525.931 528406.654, 455724.632 52...</td>\n",
       "    </tr>\n",
       "    <tr>\n",
       "      <th>3</th>\n",
       "      <td>E06000004</td>\n",
       "      <td>57.0</td>\n",
       "      <td>Stockton-on-Tees</td>\n",
       "      <td>E12000001</td>\n",
       "      <td>North East</td>\n",
       "      <td>4</td>\n",
       "      <td>0.251531</td>\n",
       "      <td>0.097186</td>\n",
       "      <td>0.154345</td>\n",
       "      <td>POLYGON ((444157.002 527956.304, 444165.898 52...</td>\n",
       "    </tr>\n",
       "    <tr>\n",
       "      <th>4</th>\n",
       "      <td>E06000005</td>\n",
       "      <td>58.0</td>\n",
       "      <td>Darlington</td>\n",
       "      <td>E12000001</td>\n",
       "      <td>North East</td>\n",
       "      <td>5</td>\n",
       "      <td>0.221544</td>\n",
       "      <td>0.083805</td>\n",
       "      <td>0.137739</td>\n",
       "      <td>POLYGON ((423496.602 524724.299, 423497.204 52...</td>\n",
       "    </tr>\n",
       "    <tr>\n",
       "      <th>...</th>\n",
       "      <td>...</td>\n",
       "      <td>...</td>\n",
       "      <td>...</td>\n",
       "      <td>...</td>\n",
       "      <td>...</td>\n",
       "      <td>...</td>\n",
       "      <td>...</td>\n",
       "      <td>...</td>\n",
       "      <td>...</td>\n",
       "      <td>...</td>\n",
       "    </tr>\n",
       "    <tr>\n",
       "      <th>306</th>\n",
       "      <td>E09000029</td>\n",
       "      <td>110.0</td>\n",
       "      <td>Sutton</td>\n",
       "      <td>E12000007</td>\n",
       "      <td>London</td>\n",
       "      <td>307</td>\n",
       "      <td>0.290253</td>\n",
       "      <td>0.511273</td>\n",
       "      <td>-0.221020</td>\n",
       "      <td>POLYGON ((527085.942 167617.691, 527087.729 16...</td>\n",
       "    </tr>\n",
       "    <tr>\n",
       "      <th>307</th>\n",
       "      <td>E09000030</td>\n",
       "      <td>111.0</td>\n",
       "      <td>Tower Hamlets</td>\n",
       "      <td>E12000007</td>\n",
       "      <td>London</td>\n",
       "      <td>308</td>\n",
       "      <td>-0.196058</td>\n",
       "      <td>0.306341</td>\n",
       "      <td>-0.502399</td>\n",
       "      <td>POLYGON ((536776.386 184446.881, 536777.600 18...</td>\n",
       "    </tr>\n",
       "    <tr>\n",
       "      <th>308</th>\n",
       "      <td>E09000031</td>\n",
       "      <td>112.0</td>\n",
       "      <td>Waltham Forest</td>\n",
       "      <td>E12000007</td>\n",
       "      <td>London</td>\n",
       "      <td>309</td>\n",
       "      <td>-0.079467</td>\n",
       "      <td>0.148808</td>\n",
       "      <td>-0.228275</td>\n",
       "      <td>POLYGON ((537921.098 196048.201, 537947.499 19...</td>\n",
       "    </tr>\n",
       "    <tr>\n",
       "      <th>309</th>\n",
       "      <td>E09000032</td>\n",
       "      <td>113.0</td>\n",
       "      <td>Wandsworth</td>\n",
       "      <td>E12000007</td>\n",
       "      <td>London</td>\n",
       "      <td>310</td>\n",
       "      <td>0.014912</td>\n",
       "      <td>0.337831</td>\n",
       "      <td>-0.322920</td>\n",
       "      <td>POLYGON ((530059.620 177871.478, 530066.940 17...</td>\n",
       "    </tr>\n",
       "    <tr>\n",
       "      <th>310</th>\n",
       "      <td>E09000033</td>\n",
       "      <td>114.0</td>\n",
       "      <td>Westminster</td>\n",
       "      <td>E12000007</td>\n",
       "      <td>London</td>\n",
       "      <td>311</td>\n",
       "      <td>NaN</td>\n",
       "      <td>NaN</td>\n",
       "      <td>-0.220753</td>\n",
       "      <td>POLYGON ((526755.127 183684.425, 526773.270 18...</td>\n",
       "    </tr>\n",
       "  </tbody>\n",
       "</table>\n",
       "<p>311 rows × 10 columns</p>\n",
       "</div>"
      ],
      "text/plain": [
       "       lad20cd    FID               LAD20NM    RGN20CD     RGN20NM  LTLA_ID  \\\n",
       "0    E06000001   54.0            Hartlepool  E12000001  North East        1   \n",
       "1    E06000002   55.0         Middlesbrough  E12000001  North East        2   \n",
       "2    E06000003   56.0  Redcar and Cleveland  E12000001  North East        3   \n",
       "3    E06000004   57.0      Stockton-on-Tees  E12000001  North East        4   \n",
       "4    E06000005   58.0            Darlington  E12000001  North East        5   \n",
       "..         ...    ...                   ...        ...         ...      ...   \n",
       "306  E09000029  110.0                Sutton  E12000007      London      307   \n",
       "307  E09000030  111.0         Tower Hamlets  E12000007      London      308   \n",
       "308  E09000031  112.0        Waltham Forest  E12000007      London      309   \n",
       "309  E09000032  113.0            Wandsworth  E12000007      London      310   \n",
       "310  E09000033  114.0           Westminster  E12000007      London      311   \n",
       "\n",
       "      totl_pr   exp_frc   unxp_fr  \\\n",
       "0    0.330147  0.130402  0.199744   \n",
       "1    0.375032  0.248762  0.126270   \n",
       "2    0.246772  0.024796  0.221976   \n",
       "3    0.251531  0.097186  0.154345   \n",
       "4    0.221544  0.083805  0.137739   \n",
       "..        ...       ...       ...   \n",
       "306  0.290253  0.511273 -0.221020   \n",
       "307 -0.196058  0.306341 -0.502399   \n",
       "308 -0.079467  0.148808 -0.228275   \n",
       "309  0.014912  0.337831 -0.322920   \n",
       "310       NaN       NaN -0.220753   \n",
       "\n",
       "                                              geometry  \n",
       "0    POLYGON ((447213.900 537036.104, 447228.798 53...  \n",
       "1    POLYGON ((448489.897 522071.798, 448592.597 52...  \n",
       "2    POLYGON ((455525.931 528406.654, 455724.632 52...  \n",
       "3    POLYGON ((444157.002 527956.304, 444165.898 52...  \n",
       "4    POLYGON ((423496.602 524724.299, 423497.204 52...  \n",
       "..                                                 ...  \n",
       "306  POLYGON ((527085.942 167617.691, 527087.729 16...  \n",
       "307  POLYGON ((536776.386 184446.881, 536777.600 18...  \n",
       "308  POLYGON ((537921.098 196048.201, 537947.499 19...  \n",
       "309  POLYGON ((530059.620 177871.478, 530066.940 17...  \n",
       "310  POLYGON ((526755.127 183684.425, 526773.270 18...  \n",
       "\n",
       "[311 rows x 10 columns]"
      ]
     },
     "execution_count": 49,
     "metadata": {},
     "output_type": "execute_result"
    }
   ],
   "source": [
    "# model results sent to me, LTLA fitted (debiased prevalenc)\n",
    "# total_pr is the overall spatial distribution effect\n",
    "# exp_frc is the spatial effect due to particular covariates for the LTLA\n",
    "# unxp_fr is the difference between total_pr and exp_frc\n",
    "\n",
    "shapefile_dbp = 'ltla_fitted.shx'\n",
    "gdf_dbp = gpd.read_file(shapefile_dbp)\n",
    "gdf_dbp"
   ]
  },
  {
   "cell_type": "code",
   "execution_count": 50,
   "id": "d83c23d2",
   "metadata": {},
   "outputs": [
    {
     "data": {
      "text/plain": [
       "<AxesSubplot:>"
      ]
     },
     "execution_count": 50,
     "metadata": {},
     "output_type": "execute_result"
    },
    {
     "data": {
      "image/png": "[encoded data removed]",
      "text/plain": [
       "<Figure size 432x288 with 2 Axes>"
      ]
     },
     "metadata": {
      "needs_background": "light"
     },
     "output_type": "display_data"
    }
   ],
   "source": [
    "\n",
    "ig, ax = plt.subplots(1, 1)\n",
    "\n",
    "divider = make_axes_locatable(ax)\n",
    "\n",
    "cax = divider.append_axes(\"right\", size=\"10%\", pad=0.5)\n",
    "\n",
    "\n",
    "gdf_dbp.plot(column='exp_frc', ax=ax, legend=True, cax=cax,\n",
    "                          legend_kwds={'label': 'Spatial effect due to deprivation and ethnicity', 'orientation':'vertical'})\n",
    "\n",
    "\n"
   ]
  },
  {
   "cell_type": "code",
   "execution_count": 51,
   "id": "2edf30f9",
   "metadata": {},
   "outputs": [],
   "source": [
    "#we can create a pseudo data set, where you see the multiplier as time\n",
    "# have a slider with 0 and 1\n",
    "# 0 there is a spatial effect no covarience\n",
    "# stats for each LTLA if possible\n",
    "# slider instead of year is a multiplier from 0 to 1\n",
    "\n",
    "import math\n",
    "\n",
    "import geopandas\n",
    "import json\n",
    "\n",
    "from bokeh.io import output_notebook, show, output_file\n",
    "from bokeh.plotting import figure\n",
    "from bokeh.models import GeoJSONDataSource, LinearColorMapper, ColorBar, NumeralTickFormatter\n",
    "from bokeh.palettes import brewer\n",
    "\n",
    "from bokeh.io.doc import curdoc\n",
    "from bokeh.models import Slider, HoverTool, Select\n",
    "from bokeh.layouts import widgetbox, row, column"
   ]
  },
  {
   "cell_type": "code",
   "execution_count": null,
   "id": "e7bccbae",
   "metadata": {},
   "outputs": [],
   "source": []
  },
  {
   "cell_type": "code",
   "execution_count": 52,
   "id": "e41e8224",
   "metadata": {},
   "outputs": [
    {
     "data": {
      "text/html": [
       "<div>\n",
       "<style scoped>\n",
       "    .dataframe tbody tr th:only-of-type {\n",
       "        vertical-align: middle;\n",
       "    }\n",
       "\n",
       "    .dataframe tbody tr th {\n",
       "        vertical-align: top;\n",
       "    }\n",
       "\n",
       "    .dataframe thead th {\n",
       "        text-align: right;\n",
       "    }\n",
       "</style>\n",
       "<table border=\"1\" class=\"dataframe\">\n",
       "  <thead>\n",
       "    <tr style=\"text-align: right;\">\n",
       "      <th></th>\n",
       "      <th>lad20cd</th>\n",
       "      <th>FID</th>\n",
       "      <th>LAD20NM</th>\n",
       "      <th>RGN20CD</th>\n",
       "      <th>RGN20NM</th>\n",
       "      <th>LTLA_ID</th>\n",
       "      <th>totl_pr</th>\n",
       "      <th>exp_frc</th>\n",
       "      <th>unxp_fr</th>\n",
       "      <th>geometry</th>\n",
       "    </tr>\n",
       "  </thead>\n",
       "  <tbody>\n",
       "    <tr>\n",
       "      <th>0</th>\n",
       "      <td>E06000001</td>\n",
       "      <td>54.0</td>\n",
       "      <td>Hartlepool</td>\n",
       "      <td>E12000001</td>\n",
       "      <td>North East</td>\n",
       "      <td>1</td>\n",
       "      <td>0.330147</td>\n",
       "      <td>0.130402</td>\n",
       "      <td>0.199744</td>\n",
       "      <td>POLYGON ((447213.900 537036.104, 447228.798 53...</td>\n",
       "    </tr>\n",
       "    <tr>\n",
       "      <th>1</th>\n",
       "      <td>E06000002</td>\n",
       "      <td>55.0</td>\n",
       "      <td>Middlesbrough</td>\n",
       "      <td>E12000001</td>\n",
       "      <td>North East</td>\n",
       "      <td>2</td>\n",
       "      <td>0.375032</td>\n",
       "      <td>0.248762</td>\n",
       "      <td>0.126270</td>\n",
       "      <td>POLYGON ((448489.897 522071.798, 448592.597 52...</td>\n",
       "    </tr>\n",
       "    <tr>\n",
       "      <th>2</th>\n",
       "      <td>E06000003</td>\n",
       "      <td>56.0</td>\n",
       "      <td>Redcar and Cleveland</td>\n",
       "      <td>E12000001</td>\n",
       "      <td>North East</td>\n",
       "      <td>3</td>\n",
       "      <td>0.246772</td>\n",
       "      <td>0.024796</td>\n",
       "      <td>0.221976</td>\n",
       "      <td>POLYGON ((455525.931 528406.654, 455724.632 52...</td>\n",
       "    </tr>\n",
       "    <tr>\n",
       "      <th>3</th>\n",
       "      <td>E06000004</td>\n",
       "      <td>57.0</td>\n",
       "      <td>Stockton-on-Tees</td>\n",
       "      <td>E12000001</td>\n",
       "      <td>North East</td>\n",
       "      <td>4</td>\n",
       "      <td>0.251531</td>\n",
       "      <td>0.097186</td>\n",
       "      <td>0.154345</td>\n",
       "      <td>POLYGON ((444157.002 527956.304, 444165.898 52...</td>\n",
       "    </tr>\n",
       "    <tr>\n",
       "      <th>4</th>\n",
       "      <td>E06000005</td>\n",
       "      <td>58.0</td>\n",
       "      <td>Darlington</td>\n",
       "      <td>E12000001</td>\n",
       "      <td>North East</td>\n",
       "      <td>5</td>\n",
       "      <td>0.221544</td>\n",
       "      <td>0.083805</td>\n",
       "      <td>0.137739</td>\n",
       "      <td>POLYGON ((423496.602 524724.299, 423497.204 52...</td>\n",
       "    </tr>\n",
       "    <tr>\n",
       "      <th>...</th>\n",
       "      <td>...</td>\n",
       "      <td>...</td>\n",
       "      <td>...</td>\n",
       "      <td>...</td>\n",
       "      <td>...</td>\n",
       "      <td>...</td>\n",
       "      <td>...</td>\n",
       "      <td>...</td>\n",
       "      <td>...</td>\n",
       "      <td>...</td>\n",
       "    </tr>\n",
       "    <tr>\n",
       "      <th>306</th>\n",
       "      <td>E09000029</td>\n",
       "      <td>110.0</td>\n",
       "      <td>Sutton</td>\n",
       "      <td>E12000007</td>\n",
       "      <td>London</td>\n",
       "      <td>307</td>\n",
       "      <td>0.290253</td>\n",
       "      <td>0.511273</td>\n",
       "      <td>-0.221020</td>\n",
       "      <td>POLYGON ((527085.942 167617.691, 527087.729 16...</td>\n",
       "    </tr>\n",
       "    <tr>\n",
       "      <th>307</th>\n",
       "      <td>E09000030</td>\n",
       "      <td>111.0</td>\n",
       "      <td>Tower Hamlets</td>\n",
       "      <td>E12000007</td>\n",
       "      <td>London</td>\n",
       "      <td>308</td>\n",
       "      <td>-0.196058</td>\n",
       "      <td>0.306341</td>\n",
       "      <td>-0.502399</td>\n",
       "      <td>POLYGON ((536776.386 184446.881, 536777.600 18...</td>\n",
       "    </tr>\n",
       "    <tr>\n",
       "      <th>308</th>\n",
       "      <td>E09000031</td>\n",
       "      <td>112.0</td>\n",
       "      <td>Waltham Forest</td>\n",
       "      <td>E12000007</td>\n",
       "      <td>London</td>\n",
       "      <td>309</td>\n",
       "      <td>-0.079467</td>\n",
       "      <td>0.148808</td>\n",
       "      <td>-0.228275</td>\n",
       "      <td>POLYGON ((537921.098 196048.201, 537947.499 19...</td>\n",
       "    </tr>\n",
       "    <tr>\n",
       "      <th>309</th>\n",
       "      <td>E09000032</td>\n",
       "      <td>113.0</td>\n",
       "      <td>Wandsworth</td>\n",
       "      <td>E12000007</td>\n",
       "      <td>London</td>\n",
       "      <td>310</td>\n",
       "      <td>0.014912</td>\n",
       "      <td>0.337831</td>\n",
       "      <td>-0.322920</td>\n",
       "      <td>POLYGON ((530059.620 177871.478, 530066.940 17...</td>\n",
       "    </tr>\n",
       "    <tr>\n",
       "      <th>310</th>\n",
       "      <td>E09000033</td>\n",
       "      <td>114.0</td>\n",
       "      <td>Westminster</td>\n",
       "      <td>E12000007</td>\n",
       "      <td>London</td>\n",
       "      <td>311</td>\n",
       "      <td>NaN</td>\n",
       "      <td>NaN</td>\n",
       "      <td>-0.220753</td>\n",
       "      <td>POLYGON ((526755.127 183684.425, 526773.270 18...</td>\n",
       "    </tr>\n",
       "  </tbody>\n",
       "</table>\n",
       "<p>311 rows × 10 columns</p>\n",
       "</div>"
      ],
      "text/plain": [
       "       lad20cd    FID               LAD20NM    RGN20CD     RGN20NM  LTLA_ID  \\\n",
       "0    E06000001   54.0            Hartlepool  E12000001  North East        1   \n",
       "1    E06000002   55.0         Middlesbrough  E12000001  North East        2   \n",
       "2    E06000003   56.0  Redcar and Cleveland  E12000001  North East        3   \n",
       "3    E06000004   57.0      Stockton-on-Tees  E12000001  North East        4   \n",
       "4    E06000005   58.0            Darlington  E12000001  North East        5   \n",
       "..         ...    ...                   ...        ...         ...      ...   \n",
       "306  E09000029  110.0                Sutton  E12000007      London      307   \n",
       "307  E09000030  111.0         Tower Hamlets  E12000007      London      308   \n",
       "308  E09000031  112.0        Waltham Forest  E12000007      London      309   \n",
       "309  E09000032  113.0            Wandsworth  E12000007      London      310   \n",
       "310  E09000033  114.0           Westminster  E12000007      London      311   \n",
       "\n",
       "      totl_pr   exp_frc   unxp_fr  \\\n",
       "0    0.330147  0.130402  0.199744   \n",
       "1    0.375032  0.248762  0.126270   \n",
       "2    0.246772  0.024796  0.221976   \n",
       "3    0.251531  0.097186  0.154345   \n",
       "4    0.221544  0.083805  0.137739   \n",
       "..        ...       ...       ...   \n",
       "306  0.290253  0.511273 -0.221020   \n",
       "307 -0.196058  0.306341 -0.502399   \n",
       "308 -0.079467  0.148808 -0.228275   \n",
       "309  0.014912  0.337831 -0.322920   \n",
       "310       NaN       NaN -0.220753   \n",
       "\n",
       "                                              geometry  \n",
       "0    POLYGON ((447213.900 537036.104, 447228.798 53...  \n",
       "1    POLYGON ((448489.897 522071.798, 448592.597 52...  \n",
       "2    POLYGON ((455525.931 528406.654, 455724.632 52...  \n",
       "3    POLYGON ((444157.002 527956.304, 444165.898 52...  \n",
       "4    POLYGON ((423496.602 524724.299, 423497.204 52...  \n",
       "..                                                 ...  \n",
       "306  POLYGON ((527085.942 167617.691, 527087.729 16...  \n",
       "307  POLYGON ((536776.386 184446.881, 536777.600 18...  \n",
       "308  POLYGON ((537921.098 196048.201, 537947.499 19...  \n",
       "309  POLYGON ((530059.620 177871.478, 530066.940 17...  \n",
       "310  POLYGON ((526755.127 183684.425, 526773.270 18...  \n",
       "\n",
       "[311 rows x 10 columns]"
      ]
     },
     "execution_count": 52,
     "metadata": {},
     "output_type": "execute_result"
    }
   ],
   "source": [
    "gdf_dbp"
   ]
  },
  {
   "cell_type": "code",
   "execution_count": null,
   "id": "5c31cb7c",
   "metadata": {},
   "outputs": [],
   "source": []
  },
  {
   "cell_type": "code",
   "execution_count": 53,
   "id": "6ca136eb",
   "metadata": {},
   "outputs": [
    {
     "name": "stdout",
     "output_type": "stream",
     "text": [
      "       lad20cd    FID               LAD20NM    RGN20CD     RGN20NM  LTLA_ID  \\\n",
      "0    E06000001   54.0            Hartlepool  E12000001  North East        1   \n",
      "1    E06000002   55.0         Middlesbrough  E12000001  North East        2   \n",
      "2    E06000003   56.0  Redcar and Cleveland  E12000001  North East        3   \n",
      "3    E06000004   57.0      Stockton-on-Tees  E12000001  North East        4   \n",
      "4    E06000005   58.0            Darlington  E12000001  North East        5   \n",
      "..         ...    ...                   ...        ...         ...      ...   \n",
      "306  E09000029  110.0                Sutton  E12000007      London      307   \n",
      "307  E09000030  111.0         Tower Hamlets  E12000007      London      308   \n",
      "308  E09000031  112.0        Waltham Forest  E12000007      London      309   \n",
      "309  E09000032  113.0            Wandsworth  E12000007      London      310   \n",
      "310  E09000033  114.0           Westminster  E12000007      London      311   \n",
      "\n",
      "      totl_pr   exp_frc   unxp_fr  \\\n",
      "0    0.330147  0.130402  0.199744   \n",
      "1    0.375032  0.248762  0.126270   \n",
      "2    0.246772  0.024796  0.221976   \n",
      "3    0.251531  0.097186  0.154345   \n",
      "4    0.221544  0.083805  0.137739   \n",
      "..        ...       ...       ...   \n",
      "306  0.290253  0.511273 -0.221020   \n",
      "307 -0.196058  0.306341 -0.502399   \n",
      "308 -0.079467  0.148808 -0.228275   \n",
      "309  0.014912  0.337831 -0.322920   \n",
      "310       NaN       NaN -0.220753   \n",
      "\n",
      "                                              geometry  qexp0     qexp1  \\\n",
      "0    POLYGON ((447213.900 537036.104, 447228.798 53...    0.0  0.032601   \n",
      "1    POLYGON ((448489.897 522071.798, 448592.597 52...    0.0  0.062191   \n",
      "2    POLYGON ((455525.931 528406.654, 455724.632 52...    0.0  0.006199   \n",
      "3    POLYGON ((444157.002 527956.304, 444165.898 52...    0.0  0.024296   \n",
      "4    POLYGON ((423496.602 524724.299, 423497.204 52...    0.0  0.020951   \n",
      "..                                                 ...    ...       ...   \n",
      "306  POLYGON ((527085.942 167617.691, 527087.729 16...    0.0  0.127818   \n",
      "307  POLYGON ((536776.386 184446.881, 536777.600 18...    0.0  0.076585   \n",
      "308  POLYGON ((537921.098 196048.201, 537947.499 19...    0.0  0.037202   \n",
      "309  POLYGON ((530059.620 177871.478, 530066.940 17...    0.0  0.084458   \n",
      "310  POLYGON ((526755.127 183684.425, 526773.270 18...    NaN       NaN   \n",
      "\n",
      "        qexp2     qexp3     qexp4  \n",
      "0    0.065201  0.097802  0.130402  \n",
      "1    0.124381  0.186572  0.248762  \n",
      "2    0.012398  0.018597  0.024796  \n",
      "3    0.048593  0.072889  0.097186  \n",
      "4    0.041902  0.062854  0.083805  \n",
      "..        ...       ...       ...  \n",
      "306  0.255636  0.383454  0.511273  \n",
      "307  0.153170  0.229756  0.306341  \n",
      "308  0.074404  0.111606  0.148808  \n",
      "309  0.168916  0.253373  0.337831  \n",
      "310       NaN       NaN       NaN  \n",
      "\n",
      "[311 rows x 15 columns]\n"
     ]
    },
    {
     "data": {
      "text/plain": [
       "geopandas.geodataframe.GeoDataFrame"
      ]
     },
     "execution_count": 53,
     "metadata": {},
     "output_type": "execute_result"
    }
   ],
   "source": [
    "# q1exp_frc.df = 0.25 * gdf_dbp('exp_frc')\n",
    "\n",
    "tot_exp_frc = gdf_dbp[\"exp_frc\"].astype(float)\n",
    "\n",
    "q0exp_frc = 0 * tot_exp_frc\n",
    "q1exp_frc = tot_exp_frc / 4\n",
    "q2exp_frc = 0.5 * tot_exp_frc\n",
    "q3exp_frc = 0.75 * tot_exp_frc\n",
    "q4exp_frc = 1 * tot_exp_frc\n",
    "\n",
    "#gdf_dbp_df = pd.DataFrame(gdf_dbp)\n",
    "gdf_dbp_df = gdf_dbp.copy()\n",
    "\n",
    "gdf_dbp_df['qexp0'] = q0exp_frc\n",
    "gdf_dbp_df['qexp1'] = q1exp_frc\n",
    "gdf_dbp_df['qexp2'] = q2exp_frc\n",
    "gdf_dbp_df['qexp3'] = q3exp_frc\n",
    "gdf_dbp_df['qexp4'] = q4exp_frc\n",
    "#gdf_dbp_df.insert(9, 'qexp0', q0exp_frc, True)\n",
    "#gdf_dbp_df.insert(9, 'qexp1', q1exp_frc, True)\n",
    "#gdf_dbp_df.insert(9, 'qexp2', q2exp_frc, True)\n",
    "#gdf_dbp_df.insert(9, 'qexp3', q3exp_frc, True)\n",
    "#gdf_dbp_df.insert(9, 'qexp4', q4exp_frc, True)\n",
    "\n",
    "print(gdf_dbp_df)\n",
    "type(gdf_dbp_df)"
   ]
  },
  {
   "cell_type": "code",
   "execution_count": 54,
   "id": "7c2f8116",
   "metadata": {},
   "outputs": [],
   "source": [
    "tot_exp_frc\n",
    "\n",
    "gdf_dbp_df = gdf_dbp_df.fillna(0)\n"
   ]
  },
  {
   "cell_type": "code",
   "execution_count": 55,
   "id": "7746c08a",
   "metadata": {},
   "outputs": [
    {
     "data": {
      "text/plain": [
       "<AxesSubplot:>"
      ]
     },
     "execution_count": 55,
     "metadata": {},
     "output_type": "execute_result"
    },
    {
     "data": {
      "image/png": "[encoded data removed]",
      "text/plain": [
       "<Figure size 432x288 with 2 Axes>"
      ]
     },
     "metadata": {
      "needs_background": "light"
     },
     "output_type": "display_data"
    }
   ],
   "source": [
    "\n",
    "ig, ax = plt.subplots(1, 1)\n",
    "\n",
    "divider = make_axes_locatable(ax)\n",
    "\n",
    "cax = divider.append_axes(\"right\", size=\"10%\", pad=0.5)\n",
    "\n",
    "\n",
    "gdf_dbp.plot(column='totl_pr', ax=ax, legend=True, cax=cax,\n",
    "                          legend_kwds={'label': 'Spatial effect due to deprivation and ethnicity', 'orientation':'vertical'})\n"
   ]
  },
  {
   "cell_type": "code",
   "execution_count": 56,
   "id": "63eebd14",
   "metadata": {},
   "outputs": [],
   "source": [
    "input_map = {0: 'qexp0', 0.25: 'qexp1', 0.5: 'qexp2', 0.75:'qexp3', 1:'qexp4'}"
   ]
  },
  {
   "cell_type": "code",
   "execution_count": 57,
   "id": "c58b3e00",
   "metadata": {},
   "outputs": [],
   "source": [
    "def json_data(selectedq):\n",
    "    selected_column = input_map[selectedq]\n",
    "    #df_q = gdf_dbp['0,0.25,0.5,0.75,1']\n",
    "    gdf_dbp_df['plot_col'] = gdf_dbp_df['unxp_fr'] + gdf_dbp_df[selected_column]\n",
    "    \n",
    "    final_json = json.loads(gdf_dbp_df.to_json())\n",
    "    json_data = json.dumps(final_json)\n",
    "    \n",
    "    return json_data"
   ]
  },
  {
   "cell_type": "code",
   "execution_count": null,
   "id": "d2b3c208",
   "metadata": {},
   "outputs": [],
   "source": []
  },
  {
   "cell_type": "code",
   "execution_count": null,
   "id": "4f71e50c",
   "metadata": {},
   "outputs": [],
   "source": []
  },
  {
   "cell_type": "code",
   "execution_count": 58,
   "id": "ced3c197",
   "metadata": {},
   "outputs": [],
   "source": [
    "# Define the callback function: update_plot\n",
    "def update_plot(attr, old, new):\n",
    "    # The input q is the year selected from the slider\n",
    "    selectedq = slider.value\n",
    "    new_data = json_data(selectedq)\n",
    "    \n",
    "    # The input cr is the criteria selected from the select box\n",
    "    #cr = select.value\n",
    "    #input_field = format_df.loc[format_df['verbage'] == cr, 'field'].iloc[0]\n",
    "    \n",
    "    # Update the plot based on the changed inputs\n",
    "    #p = make_plot('plot_col')\n",
    "    \n",
    "    # Update the layout, clear the old document and display the new document\n",
    "    #layout = column(p, widgetbox(slider))\n",
    "    #curdoc().clear()\n",
    "    #curdoc().add_root(layout)\n",
    "    \n",
    "    # Update the data\n",
    "    geosource.geojson = new_data\n",
    "    \n",
    "\n",
    "    "
   ]
  },
  {
   "cell_type": "code",
   "execution_count": 59,
   "id": "04199ee0",
   "metadata": {},
   "outputs": [],
   "source": [
    "# Create a plotting function\n",
    "\n",
    "def make_plot(field_name, min_range = -1, max_range = 1):\n",
    "    \n",
    "  #format_df = gdf_dbp_df\n",
    "  # Set the format of the colorbar\n",
    "  #min_range = format_df.loc[format_df['field'] == field_name, 'min_range'].iloc[0]\n",
    "  #max_range = format_df.loc[format_df['field'] == field_name, 'max_range'].iloc[0]\n",
    "  #field_format = format_df.loc[format_df['field'] == field_name, 'format'].iloc[0]\n",
    "\n",
    "  # Instantiate LinearColorMapper that linearly maps numbers in a range, into a sequence of colors.\n",
    "  color_mapper = LinearColorMapper(palette = palette, low = min_range, high = max_range)\n",
    "\n",
    "  # Create color bar.\n",
    "  #format_tick = NumeralTickFormatter(format=field_format)\n",
    "  color_bar = ColorBar(color_mapper=color_mapper, label_standoff=18, \n",
    "  border_line_color=None, location = (0, 0))\n",
    "\n",
    "  # Create figure object.\n",
    "  #verbage = format_df.loc[format_df['field'] == field_name, 'verbage'].iloc[0]\n",
    "\n",
    "  p = figure(title = 'spatial deprivation', \n",
    "             plot_height = 650, plot_width = 850,\n",
    "             toolbar_location = None)\n",
    "  p.xgrid.grid_line_color = None\n",
    "  p.ygrid.grid_line_color = None\n",
    "  p.axis.visible = False\n",
    "\n",
    "  # Add patch renderer to figure. \n",
    "  p.patches('xs','ys', source = geosource, fill_color = {'field' : field_name, 'transform' : color_mapper},\n",
    "             line_color = 'black', line_width = 0.25, fill_alpha = 1)\n",
    "  \n",
    "  # Specify color bar layout.\n",
    "  p.add_layout(color_bar, 'right')\n",
    "\n",
    "  # Add the hover tool to the graph\n",
    "  #p.add_tools(hover)\n",
    "  return p"
   ]
  },
  {
   "cell_type": "code",
   "execution_count": 60,
   "id": "14a2f057",
   "metadata": {},
   "outputs": [
    {
     "name": "stderr",
     "output_type": "stream",
     "text": [
      "BokehDeprecationWarning: 'WidgetBox' is deprecated and will be removed in Bokeh 3.0, use 'bokeh.models.Column' instead\n"
     ]
    }
   ],
   "source": [
    "palette = brewer['Blues'][8]\n",
    "geosource = GeoJSONDataSource(geojson = json_data(0))\n",
    "\n",
    "\n",
    "plot_out = make_plot('plot_col')\n",
    "\n",
    "# Make a slider object: slider \n",
    "slider = Slider(title = 'quantile',start = 0, end = 1, step = 0.25, value = 0)\n",
    "slider.on_change('value', update_plot)\n",
    "\n",
    "layout = column(plot_out, widgetbox(slider))\n",
    "curdoc().add_root(layout)"
   ]
  },
  {
   "cell_type": "code",
   "execution_count": null,
   "id": "2c36e942",
   "metadata": {},
   "outputs": [],
   "source": []
  },
  {
   "cell_type": "code",
   "execution_count": null,
   "id": "2d1039a1",
   "metadata": {},
   "outputs": [],
   "source": []
  },
  {
   "cell_type": "code",
   "execution_count": null,
   "id": "ab0ea5b4",
   "metadata": {},
   "outputs": [],
   "source": []
  },
  {
   "cell_type": "code",
   "execution_count": null,
   "id": "f30d63bc",
   "metadata": {},
   "outputs": [],
   "source": []
  },
  {
   "cell_type": "code",
   "execution_count": null,
   "id": "33a0c4ac",
   "metadata": {},
   "outputs": [],
   "source": []
  },
  {
   "cell_type": "code",
   "execution_count": null,
   "id": "837d0170",
   "metadata": {},
   "outputs": [],
   "source": []
  },
  {
   "cell_type": "code",
   "execution_count": null,
   "id": "9afa094f",
   "metadata": {},
   "outputs": [],
   "source": []
  },
  {
   "cell_type": "code",
   "execution_count": null,
   "id": "95bba5ce",
   "metadata": {},
   "outputs": [],
   "source": []
  },
  {
   "cell_type": "code",
   "execution_count": null,
   "id": "51218889",
   "metadata": {},
   "outputs": [],
   "source": []
  },
  {
   "cell_type": "code",
   "execution_count": null,
   "id": "e30e5949",
   "metadata": {},
   "outputs": [],
   "source": []
  },
  {
   "cell_type": "code",
   "execution_count": null,
   "id": "91e35236",
   "metadata": {},
   "outputs": [],
   "source": []
  },
  {
   "cell_type": "code",
   "execution_count": null,
   "id": "d8d1881c",
   "metadata": {},
   "outputs": [],
   "source": []
  },
  {
   "cell_type": "code",
   "execution_count": null,
   "id": "6c1a6e37",
   "metadata": {},
   "outputs": [],
   "source": []
  },
  {
   "cell_type": "code",
   "execution_count": null,
   "id": "4465ca71",
   "metadata": {},
   "outputs": [],
   "source": []
  },
  {
   "cell_type": "code",
   "execution_count": null,
   "id": "8ef068b6",
   "metadata": {},
   "outputs": [],
   "source": []
  },
  {
   "cell_type": "code",
   "execution_count": null,
   "id": "54ebd19f",
   "metadata": {},
   "outputs": [],
   "source": []
  },
  {
   "cell_type": "code",
   "execution_count": null,
   "id": "3fcba5f4",
   "metadata": {},
   "outputs": [],
   "source": []
  }
 ],
 "metadata": {
  "kernelspec": {
   "display_name": "Python 3 (ipykernel)",
   "language": "python",
   "name": "python3"
  },
  "language_info": {
   "codemirror_mode": {
    "name": "ipython",
    "version": 3
   },
   "file_extension": ".py",
   "mimetype": "text/x-python",
   "name": "python",
   "nbconvert_exporter": "python",
   "pygments_lexer": "ipython3",
   "version": "3.9.7"
  }
 },
 "nbformat": 4,
 "nbformat_minor": 5
}
